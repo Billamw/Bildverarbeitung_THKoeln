{
 "cells": [
  {
   "cell_type": "code",
   "execution_count": 6,
   "metadata": {},
   "outputs": [],
   "source": [
    "import numpy as np\n",
    "import cv2\n",
    "import matplotlib.pyplot as plt"
   ]
  },
  {
   "cell_type": "code",
   "execution_count": 30,
   "metadata": {},
   "outputs": [],
   "source": [
    "def rotate_image(mat, angle):\n",
    "    height, width = mat.shape[:2] # image shape has 3 dimensions\n",
    "    image_center = (width/2, height/2) # getRotationMatrix2D needs coordinates in reverse order (width, height) compared to shape\n",
    "\n",
    "    rotation_mat = cv2.getRotationMatrix2D(image_center, angle, 1.)\n",
    "\n",
    "    # rotation calculates the cos and sin, taking absolutes of those.\n",
    "    abs_cos = abs(rotation_mat[0,0])\n",
    "    abs_sin = abs(rotation_mat[0,1])\n",
    "\n",
    "    # find the new width and height bounds\n",
    "    bound_w = int(height * abs_sin + width * abs_cos)\n",
    "    bound_h = int(height * abs_cos + width * abs_sin)\n",
    "\n",
    "    # subtract old image center (bringing image back to origo) and adding the new image center coordinates\n",
    "    rotation_mat[0, 2] += bound_w/2 - image_center[0]\n",
    "    rotation_mat[1, 2] += bound_h/2 - image_center[1]\n",
    "\n",
    "    # rotate image with the new bounds and translated rotation matrix\n",
    "    rotated_mat = cv2.warpAffine(mat, rotation_mat, (bound_w, bound_h), borderValue=0)\n",
    "    return rotated_mat\n",
    "\n",
    "def correlationCoefficient(img, pos, template):\n",
    "    height, width = template.shape[:2]\n",
    "    return np.corrcoef(img[pos[0]:pos[0] + height - 1][pos[1]:pos[1] + width - 1], template)\n",
    "\n",
    "def templateMatching(img, template, smin, smax, sstep, rmin, rmax, rstep):\n",
    "    iHeight, iWidth =   img.shape[:2]\n",
    "    tHeight, tWidth = template.shape[:2]\n",
    "    R = np.zeros((smax, rmax, iHeight, iWidth))\n",
    "    for s in range(smin,smax,sstep):\n",
    "        tsHeight = tHeight * s\n",
    "        tsWidth = tWidth * s\n",
    "        ts = cv2.resize(template, (tsWidth, tsHeight))\n",
    "        for r in range(rmin, rmax, rstep):\n",
    "            rotation_matrix = cv2.getRotationMatrix2D((tsWidth / 2, tsHeight / 2), r, 1)\n",
    "            tsr = rotated_image = cv2.warpAffine(ts, rotation_matrix, (tsWidth, tsHeight))\n",
    "            for y in range(iHeight):\n",
    "                for x in range(iWidth):\n",
    "                    R[s][r][y][x] = 'a'\n",
    "\n",
    "    return 0\n"
   ]
  },
  {
   "cell_type": "code",
   "execution_count": 32,
   "metadata": {},
   "outputs": [
    {
     "name": "stdout",
     "output_type": "stream",
     "text": [
      "[[ 1.         -0.04248556 -0.51211514 ... -0.03151684 -0.07685432\n",
      "  -0.03816403]\n",
      " [-0.04248556  1.          0.50706051 ... -0.06747733  0.83766945\n",
      "   0.15664563]\n",
      " [-0.51211514  0.50706051  1.         ...  0.25121417  0.4777678\n",
      "  -0.16780682]\n",
      " ...\n",
      " [-0.03151684 -0.06747733  0.25121417 ...  1.          0.23820875\n",
      "  -0.56039424]\n",
      " [-0.07685432  0.83766945  0.4777678  ...  0.23820875  1.\n",
      "  -0.01188107]\n",
      " [-0.03816403  0.15664563 -0.16780682 ... -0.56039424 -0.01188107\n",
      "   1.        ]]\n"
     ]
    },
    {
     "data": {
      "text/plain": [
       "\"\\ncv2.imshow('displaymywindows', rotated_image)\\ncv2.waitKey(0)   #wait for a keyboard input\\ncv2.destroyAllWindows()\\n\""
      ]
     },
     "execution_count": 32,
     "metadata": {},
     "output_type": "execute_result"
    }
   ],
   "source": [
    "templateA = cv2.cvtColor(cv2.imread(\"../Utils/Uebung08/Template_a.png\"), cv2.COLOR_BGR2GRAY)\n",
    "height, width =   templateA.shape[:2]\n",
    "\n",
    "\n",
    "rotated_image = rotate_image(templateA, 45)\n",
    "cc = correlationCoefficient(templateA, (0,0), templateA)\n",
    "print(cc)\n",
    "\n",
    "'''\n",
    "cv2.imshow('displaymywindows', rotated_image)\n",
    "cv2.waitKey(0)   #wait for a keyboard input\n",
    "cv2.destroyAllWindows()\n",
    "'''"
   ]
  }
 ],
 "metadata": {
  "kernelspec": {
   "display_name": ".venv",
   "language": "python",
   "name": "python3"
  },
  "language_info": {
   "codemirror_mode": {
    "name": "ipython",
    "version": 3
   },
   "file_extension": ".py",
   "mimetype": "text/x-python",
   "name": "python",
   "nbconvert_exporter": "python",
   "pygments_lexer": "ipython3",
   "version": "3.11.3"
  },
  "orig_nbformat": 4
 },
 "nbformat": 4,
 "nbformat_minor": 2
}
