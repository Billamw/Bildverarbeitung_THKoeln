{
 "cells": [
  {
   "cell_type": "code",
   "execution_count": 8,
   "metadata": {},
   "outputs": [
    {
     "name": "stdout",
     "output_type": "stream",
     "text": [
      "Reading images ... \n",
      "Skipping alignment ... \n",
      "Merging using Exposure Fusion ... \n"
     ]
    },
    {
     "ename": "error",
     "evalue": "OpenCV(4.7.0) D:\\a\\opencv-python\\opencv-python\\opencv\\modules\\imgproc\\src\\deriv.cpp:792: error: (-215:Assertion failed) !_src.empty() in function 'cv::Laplacian'\n",
     "output_type": "error",
     "traceback": [
      "\u001b[1;31m---------------------------------------------------------------------------\u001b[0m",
      "\u001b[1;31merror\u001b[0m                                     Traceback (most recent call last)",
      "\u001b[1;32mc:\\Users\\David\\Documents\\GitHub\\Bildverarbeitung1_2023\\David\\exposurefusion.ipynb Cell 1\u001b[0m line \u001b[0;36m5\n\u001b[0;32m     <a href='vscode-notebook-cell:/c%3A/Users/David/Documents/GitHub/Bildverarbeitung1_2023/David/exposurefusion.ipynb#W0sZmlsZQ%3D%3D?line=47'>48</a>\u001b[0m \u001b[39mprint\u001b[39m(\u001b[39m\"\u001b[39m\u001b[39mMerging using Exposure Fusion ... \u001b[39m\u001b[39m\"\u001b[39m)\n\u001b[0;32m     <a href='vscode-notebook-cell:/c%3A/Users/David/Documents/GitHub/Bildverarbeitung1_2023/David/exposurefusion.ipynb#W0sZmlsZQ%3D%3D?line=48'>49</a>\u001b[0m mergeMertens \u001b[39m=\u001b[39m cv2\u001b[39m.\u001b[39mcreateMergeMertens()\n\u001b[1;32m---> <a href='vscode-notebook-cell:/c%3A/Users/David/Documents/GitHub/Bildverarbeitung1_2023/David/exposurefusion.ipynb#W0sZmlsZQ%3D%3D?line=49'>50</a>\u001b[0m exposureFusion \u001b[39m=\u001b[39m mergeMertens\u001b[39m.\u001b[39;49mprocess(images)\n\u001b[0;32m     <a href='vscode-notebook-cell:/c%3A/Users/David/Documents/GitHub/Bildverarbeitung1_2023/David/exposurefusion.ipynb#W0sZmlsZQ%3D%3D?line=51'>52</a>\u001b[0m \u001b[39m# Save output image\u001b[39;00m\n\u001b[0;32m     <a href='vscode-notebook-cell:/c%3A/Users/David/Documents/GitHub/Bildverarbeitung1_2023/David/exposurefusion.ipynb#W0sZmlsZQ%3D%3D?line=52'>53</a>\u001b[0m \u001b[39mprint\u001b[39m(\u001b[39m\"\u001b[39m\u001b[39mSaving output ... exposure-fusion.jpg\u001b[39m\u001b[39m\"\u001b[39m)\n",
      "\u001b[1;31merror\u001b[0m: OpenCV(4.7.0) D:\\a\\opencv-python\\opencv-python\\opencv\\modules\\imgproc\\src\\deriv.cpp:792: error: (-215:Assertion failed) !_src.empty() in function 'cv::Laplacian'\n"
     ]
    }
   ],
   "source": [
    "import cv2\n",
    "import numpy as np\n",
    "import sys\n",
    "\n",
    "\n",
    "def readImagesAndTimes():\n",
    "  \n",
    "  filenames = [\n",
    "               \"../Utils\\StLouisArch\\StLouisArchMultExpEV0.jpg\",\n",
    "               \"../Utils\\StLouisArch\\StLouisArchMultExpEV1.jpg\",\n",
    "               \"../Utils\\StLouisArch\\StLouisArchMultExpEV2.jpg\",\n",
    "               \"../Utils\\StLouisArch\\StLouisArchMultExpEV3.jpg\"\n",
    "               ]\n",
    "\n",
    "  images = []\n",
    "  for filename in filenames:\n",
    "    im = cv2.imread(filename)\n",
    "    images.append(im)\n",
    "  \n",
    "  return images\n",
    "\n",
    "if __name__ == '__main__':\n",
    "  \n",
    "  # Read images\n",
    "  print(\"Reading images ... \")\n",
    "  \n",
    "  if len(sys.argv) > 1:\n",
    "    # Read images from the command line\n",
    "    images = []\n",
    "    for filename in sys.argv[1:]:\n",
    "      im = cv2.imread(filename)\n",
    "      images.append(im)\n",
    "    needsAlignment = False\n",
    "  else :\n",
    "    # Read example images\n",
    "    images = readImagesAndTimes()\n",
    "    needsAlignment = False\n",
    "  \n",
    "  # Align input images\n",
    "  if needsAlignment:\n",
    "    print(\"Aligning images ... \")\n",
    "    alignMTB = cv2.createAlignMTB()\n",
    "    alignMTB.process(images, images)\n",
    "  else :\n",
    "    print(\"Skipping alignment ... \")\n",
    "  \n",
    "  # Merge using Exposure Fusion\n",
    "  print(\"Merging using Exposure Fusion ... \")\n",
    "  mergeMertens = cv2.createMergeMertens()\n",
    "  exposureFusion = mergeMertens.process(images)\n",
    "\n",
    "  # Save output image\n",
    "  print(\"Saving output ... exposure-fusion.jpg\")\n",
    "  cv2.imwrite(\"exposure-fusion.jpg\", exposureFusion * 255)\n",
    "\n",
    "\n"
   ]
  }
 ],
 "metadata": {
  "kernelspec": {
   "display_name": ".venv",
   "language": "python",
   "name": "python3"
  },
  "language_info": {
   "codemirror_mode": {
    "name": "ipython",
    "version": 3
   },
   "file_extension": ".py",
   "mimetype": "text/x-python",
   "name": "python",
   "nbconvert_exporter": "python",
   "pygments_lexer": "ipython3",
   "version": "3.11.3"
  }
 },
 "nbformat": 4,
 "nbformat_minor": 2
}
