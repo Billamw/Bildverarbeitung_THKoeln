{
 "cells": [
  {
   "cell_type": "code",
   "execution_count": 40,
   "metadata": {},
   "outputs": [],
   "source": [
    "import numpy as np\n",
    "import cv2\n",
    "import matplotlib.pyplot as plt"
   ]
  },
  {
   "cell_type": "code",
   "execution_count": 47,
   "metadata": {},
   "outputs": [],
   "source": [
    "def canny(image):\n",
    "    # Reduce noise in the image\n",
    "    image = cv2.GaussianBlur(image, (3, 3), 0)\n",
    "\n",
    "    # Detect edges using the Canny algorithm\n",
    "    edges = cv2.Canny(image, 100, 200)\n",
    "\n",
    "    # Return the edge image\n",
    "    return edges\n",
    "\n",
    "def integral_image(image):\n",
    "    # Calculate the integral image\n",
    "    integral_image = cv2.integral(image)\n",
    "\n",
    "    # Convert the integral image to numpy array for easier manipulation\n",
    "    integral_image = np.array(integral_image, dtype=np.uint32)\n",
    "\n",
    "    # Return the integral image\n",
    "    return integral_image\n",
    "\n",
    "def create_highlighted_image(image, rectangle_size):\n",
    "    gray_image = cv2.cvtColor(image, cv2.COLOR_BGR2GRAY)\n",
    "\n",
    "    # Detect edges using the Canny algorithm\n",
    "    edges = cv2.Canny(image, 100, 200)\n",
    "\n",
    "    # Calculate the integral image\n",
    "    integral_image = cv2.integral(edges)\n",
    "    integral_image = np.array(integral_image, dtype=np.uint32)\n",
    "\n",
    "    height, width = integral_image.shape\n",
    "\n",
    "    min_sum = float('inf')\n",
    "    min_rect = None\n",
    "\n",
    "    # Calculate the sum of edge responses for all rectangles\n",
    "    for y in range(height - rectangle_size ):\n",
    "        for x in range(width - rectangle_size ):\n",
    "            # Calculate the corner coordinates of the rectangle\n",
    "            top_left = (y, x)\n",
    "            top_right = (y, x + rectangle_size)\n",
    "            bottom_left = (y + rectangle_size, x)\n",
    "            bottom_right = (y + rectangle_size, x + rectangle_size)\n",
    "\n",
    "            # Calculate the sum of edge responses using the integral image\n",
    "            edge_response = integral_image[bottom_right] + integral_image[top_left] - \\\n",
    "                            integral_image[bottom_left] - integral_image[top_right]\n",
    "\n",
    "            # Check if the current sum is smaller than the minimum sum\n",
    "            if edge_response < min_sum:\n",
    "                min_sum = edge_response\n",
    "                min_rect = (y, x, rectangle_size, rectangle_size)\n",
    "\n",
    "    # Create a highlighted image with a rectangle at the minimum sum position\n",
    "    highlighted_image = image.copy()\n",
    "    if min_rect is not None:\n",
    "        y, x, w, h = min_rect\n",
    "        cv2.rectangle(highlighted_image, (y, x), (y + h, x + w), (0, 0, 255), 2)\n",
    "\n",
    "    return highlighted_image\n",
    "\n"
   ]
  },
  {
   "cell_type": "code",
   "execution_count": 48,
   "metadata": {},
   "outputs": [],
   "source": [
    "img = cv2.imread(\"../Utils/Uebung 10/Rugby.png\")\n",
    "\n",
    "edges = canny(img)\n",
    "\n",
    "integral = integral_image(img)\n",
    "\n",
    "\n",
    "highlighted_image = create_highlighted_image(img, 150)\n",
    "\n",
    "\n",
    "\n"
   ]
  },
  {
   "cell_type": "code",
   "execution_count": 53,
   "metadata": {},
   "outputs": [],
   "source": [
    "\n",
    "cv2.imshow('displaymywindows', edges)\n",
    "cv2.imshow('displaymywindows2', highlighted_image)\n",
    "cv2.waitKey(0)   #wait for a keyboard input\n",
    "cv2.destroyAllWindows()"
   ]
  }
 ],
 "metadata": {
  "kernelspec": {
   "display_name": ".venv",
   "language": "python",
   "name": "python3"
  },
  "language_info": {
   "codemirror_mode": {
    "name": "ipython",
    "version": 3
   },
   "file_extension": ".py",
   "mimetype": "text/x-python",
   "name": "python",
   "nbconvert_exporter": "python",
   "pygments_lexer": "ipython3",
   "version": "3.11.3"
  },
  "orig_nbformat": 4
 },
 "nbformat": 4,
 "nbformat_minor": 2
}
