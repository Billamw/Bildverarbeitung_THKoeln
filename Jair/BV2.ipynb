{
 "cells": [
  {
   "attachments": {},
   "cell_type": "markdown",
   "metadata": {},
   "source": [
    "## Utils"
   ]
  },
  {
   "cell_type": "code",
   "execution_count": 29,
   "metadata": {},
   "outputs": [],
   "source": [
    "import cv2 as cv2\n",
    "import numpy as np\n",
    "import matplotlib.pyplot as plt\n",
    "import queue\n",
    "\n",
    "def convolution(image, kernel):\n",
    "    image_height, image_width, depth = image.shape\n",
    "    kernel_height, kernel_width = kernel.shape\n",
    "\n",
    "    output = np.zeros((image_height, image_width, depth))\n",
    "\n",
    "    kernel = np.flipud(np.fliplr(kernel))\n",
    "\n",
    "    for i in range(image_height):\n",
    "        for j in range(image_width):\n",
    "            for k in range(3):\n",
    "                image_patch = image[i:i+kernel_height, j:j+kernel_width, k]\n",
    "\n",
    "            output[i, j, k] = np.sum(image_patch * kernel)\n",
    "\n",
    "    return output"
   ]
  },
  {
   "cell_type": "code",
   "execution_count": 26,
   "metadata": {},
   "outputs": [
    {
     "data": {
      "text/plain": [
       "<function destroyAllWindows>"
      ]
     },
     "execution_count": 26,
     "metadata": {},
     "output_type": "execute_result"
    }
   ],
   "source": [
    "imgCol = cv2.imread('../Utils/BV2/IMG_dom.JPG')\n",
    "#cv2.imshow('dom', imgCol)\n",
    "\n",
    "witdh_set, height_set, depth_set = imgCol.shape\n",
    "imgCol = cv2.resize(imgCol,[height_set//4, witdh_set//4])\n",
    "cv2.imshow('DomMini', imgCol)\n",
    "\n",
    "cv2.waitKey(0)\n",
    "cv2.destroyAllWindows"
   ]
  },
  {
   "cell_type": "code",
   "execution_count": 27,
   "metadata": {},
   "outputs": [],
   "source": [
    "def gaussian_filter(size, sigma):\n",
    "    kernel = np.fromfunction(\n",
    "        lambda x, y: (1/ (2*np.pi*sigma**2)) *\n",
    "                    np.exp(- ((x-(size-1)/2)**2 + (y-(size-1)/2)**2) / (2*sigma**2)),\n",
    "        (size, size)\n",
    "    )\n",
    "    return kernel / np.sum(kernel)\n",
    "#print(gaussian_filter(3,50))\n",
    "\n",
    "def apply_gaussian_filter(image, size, sigma):\n",
    "    kernel = gaussian_filter(size, sigma)\n",
    "    return convolution(image,kernel)"
   ]
  },
  {
   "cell_type": "code",
   "execution_count": 31,
   "metadata": {},
   "outputs": [
    {
     "ename": "ValueError",
     "evalue": "operands could not be broadcast together with shapes (6,5) (6,6) ",
     "output_type": "error",
     "traceback": [
      "\u001b[1;31m---------------------------------------------------------------------------\u001b[0m",
      "\u001b[1;31mValueError\u001b[0m                                Traceback (most recent call last)",
      "Cell \u001b[1;32mIn[31], line 1\u001b[0m\n\u001b[1;32m----> 1\u001b[0m newImg \u001b[39m=\u001b[39m apply_gaussian_filter(imgCol, \u001b[39m6\u001b[39;49m, \u001b[39m50\u001b[39;49m)\n\u001b[0;32m      3\u001b[0m cv2\u001b[39m.\u001b[39mimshow(\u001b[39m'\u001b[39m\u001b[39mDom geglättet\u001b[39m\u001b[39m'\u001b[39m, newImg)\n\u001b[0;32m      5\u001b[0m cv2\u001b[39m.\u001b[39mwaitKey(\u001b[39m0\u001b[39m)\n",
      "Cell \u001b[1;32mIn[27], line 12\u001b[0m, in \u001b[0;36mapply_gaussian_filter\u001b[1;34m(image, size, sigma)\u001b[0m\n\u001b[0;32m     10\u001b[0m \u001b[39mdef\u001b[39;00m \u001b[39mapply_gaussian_filter\u001b[39m(image, size, sigma):\n\u001b[0;32m     11\u001b[0m     kernel \u001b[39m=\u001b[39m gaussian_filter(size, sigma)\n\u001b[1;32m---> 12\u001b[0m     \u001b[39mreturn\u001b[39;00m convolution(image,kernel)\n",
      "Cell \u001b[1;32mIn[29], line 19\u001b[0m, in \u001b[0;36mconvolution\u001b[1;34m(image, kernel)\u001b[0m\n\u001b[0;32m     16\u001b[0m         \u001b[39mfor\u001b[39;00m k \u001b[39min\u001b[39;00m \u001b[39mrange\u001b[39m(\u001b[39m3\u001b[39m):\n\u001b[0;32m     17\u001b[0m             image_patch \u001b[39m=\u001b[39m image[i:i\u001b[39m+\u001b[39mkernel_height, j:j\u001b[39m+\u001b[39mkernel_width, k]\n\u001b[1;32m---> 19\u001b[0m         output[i, j, k] \u001b[39m=\u001b[39m np\u001b[39m.\u001b[39msum(image_patch \u001b[39m*\u001b[39;49m kernel)\n\u001b[0;32m     21\u001b[0m \u001b[39mreturn\u001b[39;00m output\n",
      "\u001b[1;31mValueError\u001b[0m: operands could not be broadcast together with shapes (6,5) (6,6) "
     ]
    }
   ],
   "source": [
    "newImg = apply_gaussian_filter(imgCol, 6, 50)\n",
    "\n",
    "cv2.imshow('Dom geglättet', newImg)\n",
    "\n",
    "cv2.waitKey(0)\n",
    "cv2.destroyAllWindows"
   ]
  },
  {
   "cell_type": "code",
   "execution_count": null,
   "metadata": {},
   "outputs": [],
   "source": []
  }
 ],
 "metadata": {
  "kernelspec": {
   "display_name": "Python 3",
   "language": "python",
   "name": "python3"
  },
  "language_info": {
   "codemirror_mode": {
    "name": "ipython",
    "version": 3
   },
   "file_extension": ".py",
   "mimetype": "text/x-python",
   "name": "python",
   "nbconvert_exporter": "python",
   "pygments_lexer": "ipython3",
   "version": "3.11.3"
  },
  "orig_nbformat": 4
 },
 "nbformat": 4,
 "nbformat_minor": 2
}
