{
 "cells": [
  {
   "attachments": {},
   "cell_type": "markdown",
   "metadata": {},
   "source": [
    "## Utils"
   ]
  },
  {
   "cell_type": "code",
   "execution_count": 26,
   "metadata": {},
   "outputs": [],
   "source": [
    "import cv2 as cv2\n",
    "import numpy as np\n",
    "import matplotlib.pyplot as plt\n",
    "import queue\n",
    "#import scipy as scipy\n",
    "\n",
    "#from scipy.signal import convolve2d\n",
    "\n",
    "def convolution(image, kernel):\n",
    "    image_height, image_width, depth = image.shape\n",
    "    kernel_height, kernel_width = kernel.shape\n",
    "\n",
    "    output = np.zeros((image_height, image_width, depth))\n",
    "\n",
    "    kernel = np.flipud(np.fliplr(kernel))\n",
    "\n",
    "    for i in range(image_height-kernel_height):\n",
    "        for j in range(image_width-kernel_width):\n",
    "            for k in range(3):\n",
    "                image_patch = image[i:i+kernel_height, j:j+kernel_width, k]\n",
    "                #print(\"Kernel shape:\", kernel.shape)\n",
    "                #print(\"Image patch shape:\", image_patch.shape)\n",
    "                #print(\"i, j, k:\", i, j, k)\n",
    "            output[i, j, k] = np.sum(image_patch * kernel)\n",
    "\n",
    "    return output"
   ]
  },
  {
   "cell_type": "code",
   "execution_count": 27,
   "metadata": {},
   "outputs": [
    {
     "data": {
      "text/plain": [
       "<function destroyAllWindows>"
      ]
     },
     "execution_count": 27,
     "metadata": {},
     "output_type": "execute_result"
    }
   ],
   "source": [
    "imgCol = cv2.imread('../Utils/BV2/IMG_dom.JPG')\n",
    "#cv2.imshow('dom', imgCol)\n",
    "\n",
    "witdh_set, height_set, depth_set = imgCol.shape\n",
    "imgCol = cv2.resize(imgCol,[height_set//4, witdh_set//4])\n",
    "cv2.imshow('DomMini', imgCol)\n",
    "\n",
    "cv2.waitKey(0)\n",
    "cv2.destroyAllWindows"
   ]
  },
  {
   "cell_type": "code",
   "execution_count": 28,
   "metadata": {},
   "outputs": [
    {
     "name": "stdout",
     "output_type": "stream",
     "text": [
      "[[0.1110963  0.11111852 0.1110963 ]\n",
      " [0.11111852 0.11114074 0.11111852]\n",
      " [0.1110963  0.11111852 0.1110963 ]]\n"
     ]
    }
   ],
   "source": [
    "def gaussian_filter(size, sigma):\n",
    "    kernel = np.fromfunction(\n",
    "        lambda x, y: (1/ (2*np.pi*sigma**2)) *\n",
    "                    np.exp(- ((x-(size-1)/2)**2 + (y-(size-1)/2)**2) / (2*sigma**2)),\n",
    "        (size, size)\n",
    "    )\n",
    "    return kernel / np.sum(kernel)\n",
    "print(gaussian_filter(3,50))\n",
    "\n",
    "def apply_gaussian_filter(image, size, sigma):\n",
    "    kernel = gaussian_filter(size, sigma)\n",
    "    return convolution(image,kernel)"
   ]
  },
  {
   "cell_type": "code",
   "execution_count": 29,
   "metadata": {},
   "outputs": [
    {
     "data": {
      "text/plain": [
       "<function destroyAllWindows>"
      ]
     },
     "execution_count": 29,
     "metadata": {},
     "output_type": "execute_result"
    }
   ],
   "source": [
    "newImg = apply_gaussian_filter(imgCol, 6, 5)\n",
    "\n",
    "cv2.imshow('Dom geglättet', newImg)\n",
    "\n",
    "cv2.waitKey(0)\n",
    "cv2.destroyAllWindows"
   ]
  },
  {
   "cell_type": "code",
   "execution_count": null,
   "metadata": {},
   "outputs": [],
   "source": []
  }
 ],
 "metadata": {
  "kernelspec": {
   "display_name": "Python 3",
   "language": "python",
   "name": "python3"
  },
  "language_info": {
   "codemirror_mode": {
    "name": "ipython",
    "version": 3
   },
   "file_extension": ".py",
   "mimetype": "text/x-python",
   "name": "python",
   "nbconvert_exporter": "python",
   "pygments_lexer": "ipython3",
   "version": "3.11.3"
  },
  "orig_nbformat": 4
 },
 "nbformat": 4,
 "nbformat_minor": 2
}
