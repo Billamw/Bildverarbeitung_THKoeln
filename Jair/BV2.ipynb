{
 "cells": [
  {
   "attachments": {},
   "cell_type": "markdown",
   "metadata": {},
   "source": [
    "## Utils"
   ]
  },
  {
   "cell_type": "code",
   "execution_count": 8,
   "metadata": {},
   "outputs": [],
   "source": [
    "import cv2 as cv2\n",
    "import numpy as np\n",
    "import matplotlib.pyplot as plt\n",
    "import queue\n",
    "import math as m\n",
    "\n",
    "\n",
    "#from scipy.signal import convolve2d\n",
    "\n",
    "def convolution(image, kernel):\n",
    "    image_height, image_width, depth = image.shape\n",
    "    kernel_height, kernel_width = kernel.shape\n",
    "\n",
    "    output = np.zeros((image_height, image_width, depth))\n",
    "\n",
    "    kernel = np.flipud(np.fliplr(kernel))\n",
    "\n",
    "    for i in range(image_height-kernel_height):\n",
    "        for j in range(image_width-kernel_width):\n",
    "            for k in range(3):\n",
    "                image_patch = image[i:i+kernel_height, j:j+kernel_width, k]\n",
    "                #print(\"Kernel shape:\", kernel.shape)\n",
    "                #print(\"Image patch shape:\", image_patch.shape)\n",
    "                #print(\"i, j, k:\", i, j, k)\n",
    "            output[i, j, k] = np.sum(image_patch * kernel)\n",
    "\n",
    "    return output"
   ]
  },
  {
   "cell_type": "code",
   "execution_count": 9,
   "metadata": {},
   "outputs": [
    {
     "data": {
      "text/plain": [
       "<function destroyAllWindows>"
      ]
     },
     "execution_count": 9,
     "metadata": {},
     "output_type": "execute_result"
    }
   ],
   "source": [
    "#imgCol = cv2.imread('../Utils/BV2/IMG_dom.JPG')\n",
    "imgCol = cv2.imread('../Utils//BV2/IMG_Dinamarca.JPG')\n",
    "\n",
    "witdh_set, height_set, depth_set = imgCol.shape\n",
    "imgCol = cv2.resize(imgCol,[height_set//4, witdh_set//4])\n",
    "cv2.imshow('Playa', imgCol)\n",
    "\n",
    "cv2.waitKey(0)\n",
    "cv2.destroyAllWindows"
   ]
  },
  {
   "cell_type": "code",
   "execution_count": 10,
   "metadata": {},
   "outputs": [],
   "source": [
    "def apply_sepia_color(image):\n",
    "    kernel = np.array([[0.272, 0.534, 0.131],\n",
    "                       [0.349, 0.686, 0.168],\n",
    "                       [0.393, 0.769, 0.189]])\n",
    "    \n",
    "    sepia_image = cv2.transform(image, kernel)\n",
    "\n",
    "    sepia_image = np.where(sepia_image > 255, 255, sepia_image)\n",
    "\n",
    "    return sepia_image.astype(np.uint8)"
   ]
  },
  {
   "cell_type": "code",
   "execution_count": 14,
   "metadata": {},
   "outputs": [],
   "source": [
    "def apply_vignette(image, strength=0.5):\n",
    "    rows, cols, depth = image.shape\n",
    "\n",
    "    mask = np.zeros((rows, cols), np.uint8)\n",
    "    cv2.ellipse(mask, (int(cols/2), int(rows/2)), (int(cols/2), int(rows/2)), 0, 0, 360, 255, -1)\n",
    "\n",
    "    #gray_image = cv2.cvtColor(image, cv2.COLOR_BGR2GRAY)\n",
    "\n",
    "    result = cv2.multiply(image, np.array(mask, dtype='uint8'))\n",
    "\n",
    "    blurred = cv2.GaussianBlur(image, (0,0), strength)\n",
    "\n",
    "    final_result = cv2.addWeighted(blurred, 1-strength, result, strength, 0)\n",
    "    #print(mask.shape)\n",
    "    #print(result.shape)\n",
    "\n",
    "    return final_result\n",
    "\n",
    "\n",
    "\n"
   ]
  },
  {
   "cell_type": "code",
   "execution_count": 5,
   "metadata": {},
   "outputs": [],
   "source": [
    "def vignette(original, radius):\n",
    "    #width/2, height/2\n",
    "    #x^2+y^2=r^2\n",
    "    #sqrt(x*x+y*y) == radius; then do nothing\n",
    "    #sqrt(x*x+y*y)-radius --> Abstand Kreis\n",
    "    #max(0, Abstand -> Verringerung Helligkeit)\n",
    "    width, height, depth = original.shape\n",
    "    result = np.zeros((width, height))\n",
    "    original = original / 255\n",
    "    result = original\n",
    "    max_len = m.sqrt(width//2*width//2 + height//2*height//2)\n",
    "    for y in range(height):\n",
    "        for x in range(width):\n",
    "            tmp_x = width //2 - x\n",
    "            tmp_y = height//2 - y\n",
    "            tmp_len = m.sqrt(tmp_x*tmp_x + tmp_y*tmp_y)\n",
    "            if tmp_len > radius:\n",
    "                reduce_brightness = (tmp_len - radius) / max_len\n",
    "                result[x, y] = original[x, y] - max(0, reduce_brightness)\n",
    "\n",
    "    return result"
   ]
  },
  {
   "cell_type": "code",
   "execution_count": 12,
   "metadata": {},
   "outputs": [
    {
     "data": {
      "text/plain": [
       "<function destroyAllWindows>"
      ]
     },
     "execution_count": 12,
     "metadata": {},
     "output_type": "execute_result"
    }
   ],
   "source": [
    "sepia_image = apply_sepia_color(imgCol)\n",
    "#print(sepia_image.shape)\n",
    "cv2.imwrite('sepia_image.jpg', sepia_image)\n",
    "cv2.imshow('Playa Sepia', sepia_image)\n",
    "\n",
    "cv2.waitKey(0)\n",
    "cv2.destroyAllWindows"
   ]
  },
  {
   "cell_type": "code",
   "execution_count": 15,
   "metadata": {},
   "outputs": [
    {
     "ename": "error",
     "evalue": "OpenCV(4.7.0) D:\\a\\opencv-python\\opencv-python\\opencv\\modules\\core\\src\\arithm.cpp:650: error: (-209:Sizes of input arguments do not match) The operation is neither 'array op array' (where arrays have the same size and the same number of channels), nor 'array op scalar', nor 'scalar op array' in function 'cv::arithm_op'\n",
     "output_type": "error",
     "traceback": [
      "\u001b[1;31m---------------------------------------------------------------------------\u001b[0m",
      "\u001b[1;31merror\u001b[0m                                     Traceback (most recent call last)",
      "Cell \u001b[1;32mIn[15], line 9\u001b[0m\n\u001b[0;32m      3\u001b[0m sepia_image \u001b[39m=\u001b[39m apply_sepia_color(imgCol)\n\u001b[0;32m      4\u001b[0m \u001b[39m#print(sepia_image.shape)\u001b[39;00m\n\u001b[0;32m      5\u001b[0m \u001b[39m#cv2.imwrite('sepia_image.jpg', sepia_image)\u001b[39;00m\n\u001b[0;32m      6\u001b[0m \u001b[39m#cv2.imshow('Playa Sepia', sepia_image)\u001b[39;00m\n\u001b[0;32m      7\u001b[0m \n\u001b[0;32m      8\u001b[0m \u001b[39m#vignette(sepia_image, 100)\u001b[39;00m\n\u001b[1;32m----> 9\u001b[0m vignette_image \u001b[39m=\u001b[39m apply_vignette(sepia_image, strength\u001b[39m=\u001b[39;49m\u001b[39m0.7\u001b[39;49m)\n\u001b[0;32m     10\u001b[0m \u001b[39m#cv2.imwrite('sepia+vignette_image.jpg', vignette_image)\u001b[39;00m\n\u001b[0;32m     11\u001b[0m cv2\u001b[39m.\u001b[39mimshow(\u001b[39m'\u001b[39m\u001b[39mplaya vignette\u001b[39m\u001b[39m'\u001b[39m, vignette_image)\n",
      "Cell \u001b[1;32mIn[14], line 9\u001b[0m, in \u001b[0;36mapply_vignette\u001b[1;34m(image, strength)\u001b[0m\n\u001b[0;32m      5\u001b[0m cv2\u001b[39m.\u001b[39mellipse(mask, (\u001b[39mint\u001b[39m(cols\u001b[39m/\u001b[39m\u001b[39m2\u001b[39m), \u001b[39mint\u001b[39m(rows\u001b[39m/\u001b[39m\u001b[39m2\u001b[39m)), (\u001b[39mint\u001b[39m(cols\u001b[39m/\u001b[39m\u001b[39m2\u001b[39m), \u001b[39mint\u001b[39m(rows\u001b[39m/\u001b[39m\u001b[39m2\u001b[39m)), \u001b[39m0\u001b[39m, \u001b[39m0\u001b[39m, \u001b[39m360\u001b[39m, \u001b[39m255\u001b[39m, \u001b[39m-\u001b[39m\u001b[39m1\u001b[39m)\n\u001b[0;32m      7\u001b[0m \u001b[39m#gray_image = cv2.cvtColor(image, cv2.COLOR_BGR2GRAY)\u001b[39;00m\n\u001b[1;32m----> 9\u001b[0m result \u001b[39m=\u001b[39m cv2\u001b[39m.\u001b[39;49mmultiply(image, np\u001b[39m.\u001b[39;49marray(mask, dtype\u001b[39m=\u001b[39;49m\u001b[39m'\u001b[39;49m\u001b[39muint8\u001b[39;49m\u001b[39m'\u001b[39;49m))\n\u001b[0;32m     11\u001b[0m blurred \u001b[39m=\u001b[39m cv2\u001b[39m.\u001b[39mGaussianBlur(image, (\u001b[39m0\u001b[39m,\u001b[39m0\u001b[39m), strength)\n\u001b[0;32m     13\u001b[0m final_result \u001b[39m=\u001b[39m cv2\u001b[39m.\u001b[39maddWeighted(blurred, \u001b[39m1\u001b[39m\u001b[39m-\u001b[39mstrength, result, strength, \u001b[39m0\u001b[39m)\n",
      "\u001b[1;31merror\u001b[0m: OpenCV(4.7.0) D:\\a\\opencv-python\\opencv-python\\opencv\\modules\\core\\src\\arithm.cpp:650: error: (-209:Sizes of input arguments do not match) The operation is neither 'array op array' (where arrays have the same size and the same number of channels), nor 'array op scalar', nor 'scalar op array' in function 'cv::arithm_op'\n"
     ]
    }
   ],
   "source": [
    "#newImg = apply_gaussian_filter(imgCol, 6, 5)\n",
    "\n",
    "sepia_image = apply_sepia_color(imgCol)\n",
    "#print(sepia_image.shape)\n",
    "#cv2.imwrite('sepia_image.jpg', sepia_image)\n",
    "#cv2.imshow('Playa Sepia', sepia_image)\n",
    "\n",
    "#vignette(sepia_image, 100)\n",
    "vignette_image = apply_vignette(sepia_image, strength=0.7)\n",
    "#cv2.imwrite('sepia+vignette_image.jpg', vignette_image)\n",
    "cv2.imshow('playa vignette', vignette_image)\n",
    "\n",
    "\n",
    "\n",
    "cv2.waitKey(0)\n",
    "cv2.destroyAllWindows"
   ]
  },
  {
   "cell_type": "code",
   "execution_count": null,
   "metadata": {},
   "outputs": [],
   "source": []
  }
 ],
 "metadata": {
  "kernelspec": {
   "display_name": "Python 3",
   "language": "python",
   "name": "python3"
  },
  "language_info": {
   "codemirror_mode": {
    "name": "ipython",
    "version": 3
   },
   "file_extension": ".py",
   "mimetype": "text/x-python",
   "name": "python",
   "nbconvert_exporter": "python",
   "pygments_lexer": "ipython3",
   "version": "3.11.3"
  },
  "orig_nbformat": 4
 },
 "nbformat": 4,
 "nbformat_minor": 2
}
