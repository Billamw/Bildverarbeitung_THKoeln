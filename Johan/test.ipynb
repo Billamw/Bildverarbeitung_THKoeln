{
 "cells": [
  {
   "attachments": {},
   "cell_type": "markdown",
   "metadata": {},
   "source": [
    "# Utils"
   ]
  },
  {
   "cell_type": "code",
   "execution_count": 99,
   "metadata": {},
   "outputs": [],
   "source": [
    "import cv2 as cv2\n",
    "import numpy as np\n",
    "import matplotlib.pyplot as plt\n",
    "\n",
    "\n",
    "imgCol = cv2.imread('../Utils/LenaJPEG.jpg')\n",
    "imgCol.shape\n",
    "\n",
    "def plotSignal(signal=[], title='', xmin = 0, xmax = 0):\n",
    "  if(xmax == 0):\n",
    "    xmax = signal.size\n",
    "\n",
    "  plt.title(title)\n",
    "  plt.plot(signal)\n",
    "  plt.xlim(xmin, xmax)\n",
    "  plt.show() \n",
    "\n",
    "def show_Image(img):\n",
    "    cv2.imshow(\"img\", img)\n",
    "    cv2.waitKey(0)\n",
    "    cv2.destroyAll()"
   ]
  },
  {
   "attachments": {},
   "cell_type": "markdown",
   "metadata": {},
   "source": [
    "# Praktikum 01"
   ]
  },
  {
   "cell_type": "code",
   "execution_count": 1,
   "metadata": {},
   "outputs": [],
   "source": [
    "def printNumberFrom1To100():\n",
    "    for i in range(1, 101):\n",
    "        print(i)\n",
    "\n",
    "def fibunacci(n):\n",
    "    a = [0]*(n+4)\n",
    "    a[0] = 1\n",
    "    a[1] = 1\n",
    "    print(0)\n",
    "    print(1)\n",
    "    print(1)\n",
    "    for i in range(2,n+3):\n",
    "        a[i] = a[i-1]+a[i-2]\n",
    "        print(a[i])\n",
    "\n",
    "# fibunacci(10)\n",
    "\n",
    "# for y in range(height):\n",
    "#     for x in range(width):\n",
    "#         imgCol[y][x] = pow(imgCol[y][x]/255, 1/2) * 255\n",
    "\n",
    "\n",
    "\n",
    "# cv2.imshow(\"img\", imgCol)\n",
    "# cv2.waitKey(0)\n",
    "# cv2.destroyAllWindows()\n"
   ]
  },
  {
   "attachments": {},
   "cell_type": "markdown",
   "metadata": {},
   "source": [
    "# Praktikum 02"
   ]
  },
  {
   "cell_type": "code",
   "execution_count": 100,
   "metadata": {},
   "outputs": [],
   "source": [
    "def getHistogramm(img=[]):\n",
    "    histogram=np.zeros(256)\n",
    "    height, width, depth = img.shape\n",
    "    for y in range(height):\n",
    "        for x in range(width):\n",
    "            if img.ndim == 3:\n",
    "                i = 0.2125 * img[y][x][0] + 0.7154 * img[y][x][1] + 0.072 * img[y][x][2]\n",
    "            else:\n",
    "                i = img[y][x]\n",
    "\n",
    "            histogram[int(i)] += 1\n",
    "\n",
    "    return histogram\n",
    "\n",
    "def getNormHistogramm(img=[]):\n",
    "    height, width, depth = img.shape\n",
    "    return getHistogramm(img) / (width*height)\n",
    "\n",
    "def getCumulatedHistogramm(img):\n",
    "    H = np.zeros(256)\n",
    "    h = getNormHistogramm(img)\n",
    "    for i in range(len(h)):\n",
    "        for j in range(i): \n",
    "            H[i] += h[j]\n",
    "    return H\n",
    "\n",
    "def linearContrast(img=[], t0=0, t1=255):\n",
    "    height, width, depth = img.shape\n",
    "    toRet = np.zeros((height, width), dtype='uint8')\n",
    "    for y in range(height):\n",
    "        for x in range(width):\n",
    "            a = float(0.2125 * img[y][x][0] + 0.7154 * img[y][x][1] + 0.072 * img[y][x][2])\n",
    "            if a < t0:\n",
    "                toRet[y][x] = 0\n",
    "            if t0 <= a < t1:\n",
    "                toRet[y][x] = 255/(t1-t0) * (a-t0)\n",
    "            if a >= t1:\n",
    "                toRet[y][x] = 255\n",
    "    return toRet\n",
    "\n",
    "def autoContrast(img, schwellwert):\n",
    "    a1_low = getPercentage(img, schwellwert)\n",
    "    a1_high = getPercentage(img, 1-schwellwert)\n",
    "    return linearContrast(img, a1_low, a1_high)\n",
    "\n",
    "def getPercentage(img, schwellwert):\n",
    "    H = getCumulatedHistogramm(img)\n",
    "    toRet = 255\n",
    "    for i in range(len(H)):\n",
    "        if H[i] >= schwellwert:\n",
    "            toRet = i\n",
    "            break\n",
    "    return toRet\n",
    "\n",
    "def getMedianOfHistogramm(img):\n",
    "    H = getCumulatedHistogramm(img)\n",
    "    for i in range(len(H)):\n",
    "        if H[i] >= 0.5:\n",
    "            return i\n",
    "\n",
    "\n",
    "def getBinary(img=[], schwellwert=125):\n",
    "    height, width, depth = img.shape\n",
    "    toRet = np.zeros((height, width))\n",
    "    for y in range(height):\n",
    "        for x in range(width):\n",
    "            a = 0.2125 * img[y][x][0] + 0.7154 * img[y][x][1] + 0.072 * img[y][x][2]\n",
    "            if a < schwellwert:\n",
    "                toRet[y][x] = 0\n",
    "            else:\n",
    "                toRet[y][x] = 1\n",
    "    return toRet\n",
    "\n",
    "def same_image(img=[]):\n",
    "    height, width, depth = img.shape\n",
    "    toRet = np.zeros((width, height), dtype='uint8')\n",
    "    for y in range(height):\n",
    "        for x in range(width):\n",
    "            a = 0.2125 * img[y][x][0] + 0.7154 * img[y][x][1] + 0.072 * img[y][x][2]\n",
    "            # a = img[y][x][0]\n",
    "            toRet[y][x] = a\n",
    "            \n",
    "    return toRet"
   ]
  },
  {
   "attachments": {},
   "cell_type": "markdown",
   "metadata": {},
   "source": [
    "testing Praktikum 02"
   ]
  },
  {
   "cell_type": "code",
   "execution_count": 101,
   "metadata": {},
   "outputs": [
    {
     "name": "stdout",
     "output_type": "stream",
     "text": [
      "128\n"
     ]
    }
   ],
   "source": [
    "# print(getMedianOfHistogramm(imgCol))\n",
    "median = getMedianOfHistogramm(imgCol)\n",
    "print(median)\n",
    "img = getBinary(imgCol, median)\n",
    "# auto_con = autoContrast(imgCol, 0.1)\n",
    "\n",
    "# plotSignal(getCumulatedHistogramm(imgCol))\n",
    "# show_Image(img)\n",
    "# show_Image(imgCol)"
   ]
  },
  {
   "cell_type": "code",
   "execution_count": null,
   "metadata": {},
   "outputs": [],
   "source": []
  },
  {
   "attachments": {},
   "cell_type": "markdown",
   "metadata": {},
   "source": [
    "# Praktikum 03"
   ]
  },
  {
   "cell_type": "code",
   "execution_count": 208,
   "metadata": {},
   "outputs": [],
   "source": [
    "def Otsu_Threshold_naiv(Histrogramm=[], img=[]):\n",
    "    toRet = -1\n",
    "    varMax = -1\n",
    "    width, height, depth = img.shape\n",
    "    size = width * height\n",
    "    K = len(Histrogramm)\n",
    "    for i in range(K-1):\n",
    "        w_0 = np.sum(Histrogramm[0:i]) / size\n",
    "        w_1 = np.sum(Histrogramm[i:K]) / size\n",
    "        my_0 = np.mean(Histrogramm[0:i])\n",
    "        my_1 = np.mean(Histrogramm[i:K])\n",
    "        varBetween = w_0 * w_1 * (my_0-my_1)**2\n",
    "        if varMax < varBetween:\n",
    "            varMax = varBetween\n",
    "            toRet = i\n",
    "    return toRet\n",
    "\n",
    "def weigthed_Histogram(h=[]):\n",
    "    toRet = 0\n",
    "    for i in range(len(h)):\n",
    "        toRet += i * h[i]\n",
    "    return toRet\n",
    "\n",
    "\n",
    "def Otsu_Threshold_efficient(h=[], img=[]):\n",
    "    toRet = -1\n",
    "    varMax = -1\n",
    "    c_0 = 0\n",
    "    sum_0 = 0 \n",
    "    width, height, depth = img.shape\n",
    "    size = width * height\n",
    "    K = len(h)\n",
    "    for i in range(K):\n",
    "        c_0 = c_0 + h[i]\n",
    "        c_1 = size - c_0\n",
    "        sum_0 = sum_0 + i * h[i]\n",
    "        my_0 = sum_0 / c_0\n",
    "        my_1 = ( weigthed_Histogram(h) - sum_0) / c_1\n",
    "        varBetween = c_0 * c_1 * (my_0-my_1)**2\n",
    "        if varMax < varBetween:\n",
    "            varMax = varBetween\n",
    "            toRet = i\n",
    "    return toRet\n",
    "\n",
    "def getOpen(img=[], schwellwert=125):\n",
    "    height, width, depth = img.shape\n",
    "    toRet = np.zeros((height, width))\n",
    "    for y in range(height):\n",
    "        for x in range(width):\n",
    "            a = 0.2125 * img[y][x][0] + 0.7154 * img[y][x][1] + 0.072 * img[y][x][2]\n",
    "            if a < schwellwert:\n",
    "                toRet[y][x] = 0\n",
    "            else:\n",
    "                toRet[y][x] = 1\n",
    "        kernel = np.array([[0, 1, 0],\n",
    "                           [1, 1, 1],\n",
    "                           [0, 1, 0]], dtype=np.uint8)\n",
    "        \n",
    "    # toRet = cv2.erode(toRet, kernel)\n",
    "    # toRet = cv2.erode(toRet, kernel)\n",
    "    # toRet = cv2.dilate(toRet, kernel)\n",
    "    return toRet\n",
    "\n",
    "def region_labeling(img=[]):\n",
    "    toRet = img\n",
    "    height, width = img.shape\n",
    "    m = 2\n",
    "    for y in range(height):\n",
    "        for x in range(width):\n",
    "            if toRet[y][x] == 1:\n",
    "                floodfill(toRet, x, y, m)\n",
    "                m+=1\n",
    "    return toRet\n",
    "\n",
    "def floodfill(img=[], x=1, y=1, m=1):\n",
    "    height, width = img.shape\n",
    "    S = []\n",
    "    S.append((x, y))\n",
    "    \n",
    "    while len(S) > 0:\n",
    "        (x, y) = S.pop()\n",
    "        if((0<=x<=width and 0<=y<=height) and img[y][x] == 1):\n",
    "            img[y][x] = m\n",
    "            S.append((x+1, y))\n",
    "            S.append((x, y+1))\n",
    "            S.append((x, y-1))\n",
    "            S.append((x-1, y))\n"
   ]
  },
  {
   "attachments": {},
   "cell_type": "markdown",
   "metadata": {},
   "source": [
    "testing Praktikum 03"
   ]
  },
  {
   "cell_type": "code",
   "execution_count": 192,
   "metadata": {},
   "outputs": [
    {
     "name": "stderr",
     "output_type": "stream",
     "text": [
      "d:\\Stuff\\GitHub\\Bildverarbeitung1_2023\\env\\Lib\\site-packages\\numpy\\core\\fromnumeric.py:3464: RuntimeWarning: Mean of empty slice.\n",
      "  return _methods._mean(a, axis=axis, dtype=dtype,\n",
      "d:\\Stuff\\GitHub\\Bildverarbeitung1_2023\\env\\Lib\\site-packages\\numpy\\core\\_methods.py:192: RuntimeWarning: invalid value encountered in scalar divide\n",
      "  ret = ret.dtype.type(ret / rcount)\n",
      "C:\\Users\\Johan Laptop\\AppData\\Local\\Temp\\ipykernel_17132\\332052374.py:38: RuntimeWarning: invalid value encountered in scalar divide\n",
      "  my_1 = ( weigthed_Histogram(h) - sum_0) / c_1\n"
     ]
    },
    {
     "name": "stdout",
     "output_type": "stream",
     "text": [
      "35\n",
      "115\n",
      "33\n"
     ]
    }
   ],
   "source": [
    "SetExmpl = cv2.imread('../Utils/SetWellen.png')\n",
    "width_set, height_set, depht_set = SetExmpl.shape\n",
    "setExample_01 = cv2.resize(SetExmpl, [height_set//3, width_set//3])\n",
    "\n",
    "otsu_naiv = Otsu_Threshold_naiv(getHistogramm(setExample_01), setExample_01)\n",
    "otsu_efficient = Otsu_Threshold_efficient(getHistogramm(setExample_01), setExample_01)\n",
    "print(otsu_naiv)\n",
    "print(otsu_efficient)\n",
    "median = getMedianOfHistogramm(setExample_01)\n",
    "print(median)"
   ]
  },
  {
   "cell_type": "code",
   "execution_count": 207,
   "metadata": {},
   "outputs": [
    {
     "ename": "AttributeError",
     "evalue": "module 'cv2' has no attribute 'destroyAll'",
     "output_type": "error",
     "traceback": [
      "\u001b[1;31m---------------------------------------------------------------------------\u001b[0m",
      "\u001b[1;31mAttributeError\u001b[0m                            Traceback (most recent call last)",
      "Cell \u001b[1;32mIn[207], line 4\u001b[0m\n\u001b[0;32m      2\u001b[0m label \u001b[39m=\u001b[39m region_labeling(binary)\n\u001b[0;32m      3\u001b[0m \u001b[39m# test = getHistogramm(setExample_01)\u001b[39;00m\n\u001b[1;32m----> 4\u001b[0m show_Image(label)\n\u001b[0;32m      5\u001b[0m \u001b[39m# show_Image(setExample_01)\u001b[39;00m\n",
      "Cell \u001b[1;32mIn[99], line 20\u001b[0m, in \u001b[0;36mshow_Image\u001b[1;34m(img)\u001b[0m\n\u001b[0;32m     18\u001b[0m cv2\u001b[39m.\u001b[39mimshow(\u001b[39m\"\u001b[39m\u001b[39mimg\u001b[39m\u001b[39m\"\u001b[39m, img)\n\u001b[0;32m     19\u001b[0m cv2\u001b[39m.\u001b[39mwaitKey(\u001b[39m0\u001b[39m)\n\u001b[1;32m---> 20\u001b[0m cv2\u001b[39m.\u001b[39;49mdestroyAll()\n",
      "\u001b[1;31mAttributeError\u001b[0m: module 'cv2' has no attribute 'destroyAll'"
     ]
    }
   ],
   "source": [
    "\n",
    "binary = getOpen(setExample_01, 115)\n",
    "label = region_labeling(binary)\n",
    "# test = getHistogramm(setExample_01)\n",
    "show_Image(label)\n",
    "# show_Image(setExample_01)"
   ]
  }
 ],
 "metadata": {
  "kernelspec": {
   "display_name": "env",
   "language": "python",
   "name": "python3"
  },
  "language_info": {
   "codemirror_mode": {
    "name": "ipython",
    "version": 3
   },
   "file_extension": ".py",
   "mimetype": "text/x-python",
   "name": "python",
   "nbconvert_exporter": "python",
   "pygments_lexer": "ipython3",
   "version": "3.11.0"
  },
  "orig_nbformat": 4
 },
 "nbformat": 4,
 "nbformat_minor": 2
}
