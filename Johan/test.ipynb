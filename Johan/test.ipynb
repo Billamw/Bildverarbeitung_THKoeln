{
 "cells": [
  {
   "attachments": {},
   "cell_type": "markdown",
   "metadata": {},
   "source": [
    "# Utils"
   ]
  },
  {
   "cell_type": "code",
   "execution_count": 1,
   "metadata": {},
   "outputs": [],
   "source": [
    "import cv2 as cv2\n",
    "import numpy as np\n",
    "import matplotlib.pyplot as plt\n",
    "\n",
    "\n",
    "imgCol = cv2.imread('../Utils/LenaJPEG.jpg')\n",
    "width, height, depth = imgCol.shape\n",
    "\n",
    "def plotSignal(signal=[], title='', xmin = 0, xmax = 0):\n",
    "  if(xmax == 0):\n",
    "    xmax = signal.size\n",
    "\n",
    "  plt.title(title)\n",
    "  plt.plot(signal)\n",
    "  plt.xlim(xmin, xmax)\n",
    "  plt.show() \n",
    "\n",
    "def show_Image(img):\n",
    "    cv2.imshow(\"img\", img)\n",
    "    cv2.waitKey(0)\n",
    "    cv2.destroyAll"
   ]
  },
  {
   "attachments": {},
   "cell_type": "markdown",
   "metadata": {},
   "source": [
    "# Praktikum 01"
   ]
  },
  {
   "cell_type": "code",
   "execution_count": 3,
   "metadata": {},
   "outputs": [],
   "source": [
    "def printNumberFrom1To100():\n",
    "    for i in range(1, 101):\n",
    "        print(i)\n",
    "\n",
    "def fibunacci(n):\n",
    "    a = [0]*(n+4)\n",
    "    a[0] = 1\n",
    "    a[1] = 1\n",
    "    print(0)\n",
    "    print(1)\n",
    "    print(1)\n",
    "    for i in range(2,n+3):\n",
    "        a[i] = a[i-1]+a[i-2]\n",
    "        print(a[i])\n",
    "\n",
    "# fibunacci(10)\n",
    "\n",
    "# for y in range(height):\n",
    "#     for x in range(width):\n",
    "#         imgCol[y][x] = pow(imgCol[y][x]/255, 1/2) * 255\n",
    "\n",
    "\n",
    "\n",
    "# cv2.imshow(\"img\", imgCol)\n",
    "# cv2.waitKey(0)\n",
    "# cv2.destroyAllWindows()\n"
   ]
  },
  {
   "attachments": {},
   "cell_type": "markdown",
   "metadata": {},
   "source": [
    "# Praktikum 02"
   ]
  },
  {
   "cell_type": "code",
   "execution_count": 2,
   "metadata": {},
   "outputs": [],
   "source": [
    "def getHistogramm(img=[]):\n",
    "    histogram=np.zeros(256)\n",
    "    \n",
    "    for y in range(height):\n",
    "        for x in range(width):\n",
    "            if img.ndim == 3:\n",
    "                i = 0.2125 * img[y][x][0] + 0.7154 * img[y][x][1] + 0.072 * img[y][x][2]\n",
    "            else:\n",
    "                i = img[y][x]\n",
    "\n",
    "            histogram[int(i)] += 1\n",
    "\n",
    "    return histogram\n",
    "\n",
    "def getNormHistogramm(img=[]):\n",
    "    return getHistogramm(img) / (width*height)\n",
    "\n",
    "def getCumulatedHistogramm(img):\n",
    "    H = np.zeros(256)\n",
    "    h = getNormHistogramm(img)\n",
    "    for i in range(len(h)):\n",
    "        for j in range(i): \n",
    "            H[i] += h[j]\n",
    "    return H\n",
    "\n",
    "def linearContrast(img=[], t0=0, t1=255):\n",
    "    toRet = np.zeros((height, width), dtype='uint8')\n",
    "    for y in range(height):\n",
    "        for x in range(width):\n",
    "            a = float(0.2125 * img[y][x][0] + 0.7154 * img[y][x][1] + 0.072 * img[y][x][2])\n",
    "            if a < t0:\n",
    "                toRet[y][x] = 0\n",
    "            if t0 <= a < t1:\n",
    "                toRet[y][x] = 255/(t1-t0) * (a-t0)\n",
    "            if a >= t1:\n",
    "                toRet[y][x] = 255\n",
    "    return toRet\n",
    "\n",
    "def autoContrast(img, schwellwert):\n",
    "    a1_low = getPercentage(img, schwellwert)\n",
    "    a1_high = getPercentage(img, 1-schwellwert)\n",
    "    return linearContrast(img, a1_low, a1_high)\n",
    "\n",
    "def getPercentage(img, schwellwert):\n",
    "    H = getCumulatedHistogramm(img)\n",
    "    toRet = 255\n",
    "    for i in range(len(H)):\n",
    "        if H[i] >= schwellwert:\n",
    "            toRet = i\n",
    "            break\n",
    "    return toRet\n",
    "\n",
    "def getMedianOfHistogramm(img):\n",
    "    H = getCumulatedHistogramm(img)\n",
    "    for i in range(len(H)):\n",
    "        if H[i] >= 0.5:\n",
    "            return getHistogramm(img)[i]\n",
    "\n",
    "\n",
    "def getBinary(img=[], schwellwert=125):\n",
    "    toRet = np.zeros((height, width), dtype='uint8')\n",
    "    for y in range(height):\n",
    "        for x in range(width):\n",
    "            a = 0.2125 * img[y][x][0] + 0.7154 * img[y][x][1] + 0.072 * img[y][x][2]\n",
    "            if a < schwellwert:\n",
    "                toRet[y][x] = 0\n",
    "            else:\n",
    "                toRet[y][x] = 1\n",
    "    return toRet\n",
    "\n",
    "def same_image(img=[]):\n",
    "    toRet = np.zeros((height, width), dtype='uint8')\n",
    "    for y in range(height):\n",
    "        for x in range(width):\n",
    "            # a = 0.2125 * img[y][x][0] + 0.7154 * img[y][x][1] + 0.072 * img[y][x][2]\n",
    "            a = img[y][x][0]\n",
    "            toRet[y][x] = int(a)\n",
    "            \n",
    "    return toRet"
   ]
  },
  {
   "attachments": {},
   "cell_type": "markdown",
   "metadata": {},
   "source": [
    "testing Praktikum 02"
   ]
  },
  {
   "cell_type": "code",
   "execution_count": 5,
   "metadata": {},
   "outputs": [
    {
     "ename": "AttributeError",
     "evalue": "module 'cv2' has no attribute 'destroyAll'",
     "output_type": "error",
     "traceback": [
      "\u001b[1;31m---------------------------------------------------------------------------\u001b[0m",
      "\u001b[1;31mAttributeError\u001b[0m                            Traceback (most recent call last)",
      "Cell \u001b[1;32mIn[5], line 7\u001b[0m\n\u001b[0;32m      4\u001b[0m auto_con \u001b[39m=\u001b[39m autoContrast(imgCol, \u001b[39m0.1\u001b[39m)\n\u001b[0;32m      6\u001b[0m \u001b[39m# plotSignal(getCumulatedHistogramm(imgCol))\u001b[39;00m\n\u001b[1;32m----> 7\u001b[0m show_Image(auto_con)\n\u001b[0;32m      8\u001b[0m \u001b[39m# show_Image(imgCol)\u001b[39;00m\n",
      "Cell \u001b[1;32mIn[1], line 21\u001b[0m, in \u001b[0;36mshow_Image\u001b[1;34m(img)\u001b[0m\n\u001b[0;32m     19\u001b[0m cv2\u001b[39m.\u001b[39mimshow(\u001b[39m\"\u001b[39m\u001b[39mimg\u001b[39m\u001b[39m\"\u001b[39m, img)\n\u001b[0;32m     20\u001b[0m cv2\u001b[39m.\u001b[39mwaitKey(\u001b[39m0\u001b[39m)\n\u001b[1;32m---> 21\u001b[0m cv2\u001b[39m.\u001b[39;49mdestroyAll\n",
      "\u001b[1;31mAttributeError\u001b[0m: module 'cv2' has no attribute 'destroyAll'"
     ]
    }
   ],
   "source": [
    "# print(getMedianOfHistogramm(imgCol))\n",
    "\n",
    "\n",
    "auto_con = autoContrast(imgCol, 0.1)\n",
    "\n",
    "# plotSignal(getCumulatedHistogramm(imgCol))\n",
    "show_Image(auto_con)\n",
    "# show_Image(imgCol)"
   ]
  }
 ],
 "metadata": {
  "kernelspec": {
   "display_name": "env",
   "language": "python",
   "name": "python3"
  },
  "language_info": {
   "codemirror_mode": {
    "name": "ipython",
    "version": 3
   },
   "file_extension": ".py",
   "mimetype": "text/x-python",
   "name": "python",
   "nbconvert_exporter": "python",
   "pygments_lexer": "ipython3",
   "version": "3.11.0"
  },
  "orig_nbformat": 4
 },
 "nbformat": 4,
 "nbformat_minor": 2
}
