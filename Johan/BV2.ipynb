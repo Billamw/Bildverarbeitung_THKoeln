{
 "cells": [
  {
   "cell_type": "markdown",
   "metadata": {},
   "source": [
    "# Utils"
   ]
  },
  {
   "cell_type": "code",
   "execution_count": 13,
   "metadata": {},
   "outputs": [],
   "source": [
    "import cv2 as cv2\n",
    "import numpy as np\n",
    "import matplotlib.pyplot as plt\n",
    "\n",
    "\n",
    "imgCol = cv2.imread('../Utils/LenaJPEG.jpg')\n",
    "\n",
    "def plotSignal(signal=[], title='', xmin = 0, xmax = 0):\n",
    "  if(xmax == 0):\n",
    "    xmax = signal.size\n",
    "\n",
    "  plt.title(title)\n",
    "  plt.plot(signal)\n",
    "  plt.xlim(xmin, xmax)\n",
    "  plt.show() \n",
    "\n",
    "def show_Image(img=[], resize=-1, title='img'):\n",
    "    if len(img.shape) == 3:\n",
    "        height, width, depth = img.shape\n",
    "    else :\n",
    "        height, width = img.shape\n",
    "    if 0 < resize < 2:\n",
    "      img = cv2.resize(img, [int(width*resize), int(height*resize)])\n",
    "    cv2.imshow(title, img)\n",
    "    cv2.waitKey(0)\n",
    "    cv2.destroyAllWindows()\n",
    "\n",
    "def get_Image(path='../Utils/LenaJPEG.jpg', resize=-1):\n",
    "    toRet = cv2.imread(path, 0)\n",
    "    if 0 < resize < 2:\n",
    "      if len(toRet.shape) == 3:\n",
    "          height, width, depth = toRet.shape\n",
    "      else :\n",
    "          height, width = toRet.shape\n",
    "      toRet = cv2.resize(toRet, [int(width*resize), int(height*resize)])\n",
    "    return toRet\n",
    "\n",
    "colors = [\n",
    "  [255, 0, 0],   # Rot\n",
    "  [0, 255, 0],   # Grün\n",
    "  [0, 0, 255],   # Blau\n",
    "  [255, 255, 0], # Gelb\n",
    "  [255, 0, 255], # Magenta\n",
    "  [0, 255, 255], # Cyan\n",
    "  [128, 0, 0],   # Dunkelrot\n",
    "  [0, 128, 0],   # Dunkelgrün\n",
    "  [0, 0, 128],   # Dunkelblau\n",
    "  [128, 128, 0], # Dunkelgelb\n",
    "  [128, 0, 128], # Dunkelmagenta\n",
    "  [0, 128, 128], # Dunkelcyan\n",
    "  [192, 192, 192], # Hellgrau\n",
    "  #[128, 128, 128], # Grau\n",
    "  #[255, 255, 255], # Weiß\n",
    "  #[0, 0, 0],     # Schwarz\n",
    "  [255, 128, 128], # Hellrot\n",
    "  [128, 255, 128], # Hellgrün\n",
    "  [128, 128, 255], # Hellblau\n",
    "  [255, 255, 128], # Hellgelb\n",
    "  [255, 128, 255], # Hellmagenta\n",
    "  [128, 255, 255], # Hellcyan\n",
    "  [255, 0, 128],   # Pink\n",
    "  [128, 255, 0],   # Limette\n",
    "  [0, 128, 255],   # Himmelblau\n",
    "  [255, 128, 0],   # Orange\n",
    "  [128, 0, 255],   # Lila\n",
    "  [0, 255, 128],   # Türkis\n",
    "  [255, 128, 64],  # Pfirsich\n",
    "  [64, 255, 128],  # Limonengrün\n",
    "  [128, 64, 255],  # Violett\n",
    "]"
   ]
  },
  {
   "cell_type": "markdown",
   "metadata": {},
   "source": [
    "# Praktikum 1"
   ]
  },
  {
   "cell_type": "code",
   "execution_count": 6,
   "metadata": {},
   "outputs": [],
   "source": [
    "def Gaussian(value, mu = 0, sigma = 50):\n",
    "    return 1 / np.sqrt(2*np.pi*sigma*sigma) * np.exp(-((value-mu)*(value-mu)) / (2*sigma*sigma))"
   ]
  },
  {
   "cell_type": "code",
   "execution_count": 21,
   "metadata": {},
   "outputs": [],
   "source": [
    "def edge_preserving_Smoothing(img=[], filtersize = 5, sigma = 50):\n",
    "    toRet = img.copy()\n",
    "    if len(img.shape) == 3:\n",
    "        height, width, depth = img.shape\n",
    "    else :\n",
    "        height, width = img.shape\n",
    "    for y in range(height):\n",
    "        for x in range(width):\n",
    "            if img.ndim == 3:\n",
    "                return\n",
    "            else:\n",
    "                Wp = 0\n",
    "                for i in range(int(-filtersize/2), int(filtersize/2)):\n",
    "                    for j in range(int(-filtersize/2), int(filtersize/2)):\n",
    "                        x1 = y + j\n",
    "                        y1 = x + i\n",
    "                        import numpy as np\n",
    "                        toRet[y,x] += img[y1, x1] * Gaussian( np.abs( img[y, x] - img[y1, x1] ) ) * Gaussian(np.abs( np.array([x, y]) - np.array([x1, y1]) ))\n",
    "                        Wp += Gaussian( np.abs( img[y, x] - img[y1, x1] ) ) * Gaussian(np.abs( np.array([x, y]) - np.array([x1, y1]) ))\n",
    "                toRet[y,x] /= Wp\n",
    "    return toRet"
   ]
  },
  {
   "cell_type": "code",
   "execution_count": 22,
   "metadata": {},
   "outputs": [
    {
     "ename": "ValueError",
     "evalue": "setting an array element with a sequence.",
     "output_type": "error",
     "traceback": [
      "\u001b[1;31m---------------------------------------------------------------------------\u001b[0m",
      "\u001b[1;31mTypeError\u001b[0m                                 Traceback (most recent call last)",
      "\u001b[1;31mTypeError\u001b[0m: only size-1 arrays can be converted to Python scalars",
      "\nThe above exception was the direct cause of the following exception:\n",
      "\u001b[1;31mValueError\u001b[0m                                Traceback (most recent call last)",
      "\u001b[1;32md:\\Stuff\\Github\\Bildverarbeitung_THKoeln\\Johan\\BV2.ipynb Cell 6\u001b[0m line \u001b[0;36m2\n\u001b[0;32m      <a href='vscode-notebook-cell:/d%3A/Stuff/Github/Bildverarbeitung_THKoeln/Johan/BV2.ipynb#W6sZmlsZQ%3D%3D?line=0'>1</a>\u001b[0m img \u001b[39m=\u001b[39m cv2\u001b[39m.\u001b[39mimread(\u001b[39m'\u001b[39m\u001b[39m../Utils/LennaCol.png\u001b[39m\u001b[39m'\u001b[39m, \u001b[39m0\u001b[39m)\n\u001b[1;32m----> <a href='vscode-notebook-cell:/d%3A/Stuff/Github/Bildverarbeitung_THKoeln/Johan/BV2.ipynb#W6sZmlsZQ%3D%3D?line=1'>2</a>\u001b[0m img_Smooth \u001b[39m=\u001b[39m edge_preserving_Smoothing(img)\n\u001b[0;32m      <a href='vscode-notebook-cell:/d%3A/Stuff/Github/Bildverarbeitung_THKoeln/Johan/BV2.ipynb#W6sZmlsZQ%3D%3D?line=2'>3</a>\u001b[0m show_Image(img_Smooth)\n",
      "\u001b[1;32md:\\Stuff\\Github\\Bildverarbeitung_THKoeln\\Johan\\BV2.ipynb Cell 6\u001b[0m line \u001b[0;36m1\n\u001b[0;32m     <a href='vscode-notebook-cell:/d%3A/Stuff/Github/Bildverarbeitung_THKoeln/Johan/BV2.ipynb#W6sZmlsZQ%3D%3D?line=15'>16</a>\u001b[0m         y1 \u001b[39m=\u001b[39m x \u001b[39m+\u001b[39m i\n\u001b[0;32m     <a href='vscode-notebook-cell:/d%3A/Stuff/Github/Bildverarbeitung_THKoeln/Johan/BV2.ipynb#W6sZmlsZQ%3D%3D?line=16'>17</a>\u001b[0m         \u001b[39mimport\u001b[39;00m \u001b[39mnumpy\u001b[39;00m \u001b[39mas\u001b[39;00m \u001b[39mnp\u001b[39;00m\n\u001b[1;32m---> <a href='vscode-notebook-cell:/d%3A/Stuff/Github/Bildverarbeitung_THKoeln/Johan/BV2.ipynb#W6sZmlsZQ%3D%3D?line=17'>18</a>\u001b[0m         toRet[y,x] \u001b[39m+\u001b[39m\u001b[39m=\u001b[39m img[y1, x1] \u001b[39m*\u001b[39m Gaussian( np\u001b[39m.\u001b[39mabs( img[y, x] \u001b[39m-\u001b[39m img[y1, x1] ) ) \u001b[39m*\u001b[39m Gaussian(np\u001b[39m.\u001b[39mabs( np\u001b[39m.\u001b[39marray([x, y]) \u001b[39m-\u001b[39m np\u001b[39m.\u001b[39marray([x1, y1]) ))\n\u001b[0;32m     <a href='vscode-notebook-cell:/d%3A/Stuff/Github/Bildverarbeitung_THKoeln/Johan/BV2.ipynb#W6sZmlsZQ%3D%3D?line=18'>19</a>\u001b[0m         Wp \u001b[39m+\u001b[39m\u001b[39m=\u001b[39m Gaussian( np\u001b[39m.\u001b[39mabs( img[y, x] \u001b[39m-\u001b[39m img[y1, x1] ) ) \u001b[39m*\u001b[39m Gaussian(np\u001b[39m.\u001b[39mabs( np\u001b[39m.\u001b[39marray([x, y]) \u001b[39m-\u001b[39m np\u001b[39m.\u001b[39marray([x1, y1]) ))\n\u001b[0;32m     <a href='vscode-notebook-cell:/d%3A/Stuff/Github/Bildverarbeitung_THKoeln/Johan/BV2.ipynb#W6sZmlsZQ%3D%3D?line=19'>20</a>\u001b[0m toRet[y,x] \u001b[39m/\u001b[39m\u001b[39m=\u001b[39m Wp\n",
      "\u001b[1;31mValueError\u001b[0m: setting an array element with a sequence."
     ]
    }
   ],
   "source": [
    "img = cv2.imread('../Utils/LennaCol.png', 0)\n",
    "img_Smooth = edge_preserving_Smoothing(img)\n",
    "show_Image(img_Smooth)"
   ]
  }
 ],
 "metadata": {
  "kernelspec": {
   "display_name": "env",
   "language": "python",
   "name": "python3"
  },
  "language_info": {
   "codemirror_mode": {
    "name": "ipython",
    "version": 3
   },
   "file_extension": ".py",
   "mimetype": "text/x-python",
   "name": "python",
   "nbconvert_exporter": "python",
   "pygments_lexer": "ipython3",
   "version": "3.11.3"
  }
 },
 "nbformat": 4,
 "nbformat_minor": 2
}
