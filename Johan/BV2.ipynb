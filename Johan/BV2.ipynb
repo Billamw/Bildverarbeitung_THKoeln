{
 "cells": [
  {
   "cell_type": "markdown",
   "metadata": {},
   "source": [
    "# Utils"
   ]
  },
  {
   "cell_type": "code",
   "execution_count": 2,
   "metadata": {},
   "outputs": [],
   "source": [
    "import cv2 as cv2\n",
    "import numpy as np\n",
    "import matplotlib.pyplot as plt\n",
    "\n",
    "\n",
    "imgCol = cv2.imread('../Utils/LenaJPEG.jpg')\n",
    "\n",
    "def plotSignal(signal=[], title='', xmin = 0, xmax = 0):\n",
    "  if(xmax == 0):\n",
    "    xmax = signal.size\n",
    "\n",
    "  plt.title(title)\n",
    "  plt.plot(signal)\n",
    "  plt.xlim(xmin, xmax)\n",
    "  plt.show() \n",
    "\n",
    "def show_Image(img=[], resize=-1, title='img'):\n",
    "    if len(img.shape) == 3:\n",
    "        height, width, depth = img.shape\n",
    "    else :\n",
    "        height, width = img.shape\n",
    "    if 0 < resize < 2:\n",
    "      img = cv2.resize(img, [int(width*resize), int(height*resize)])\n",
    "    cv2.imshow(title, img)\n",
    "    cv2.waitKey(0)\n",
    "    cv2.destroyAllWindows()\n",
    "\n",
    "def get_Image(path='../Utils/LenaJPEG.jpg', resize=-1, color = 0):\n",
    "    toRet = cv2.imread(path, color)\n",
    "    if 0 < resize < 2:\n",
    "      if len(toRet.shape) == 3:\n",
    "          height, width, depth = toRet.shape\n",
    "      else :\n",
    "          height, width = toRet.shape\n",
    "      toRet = cv2.resize(toRet, [int(width*resize), int(height*resize)])\n",
    "    return toRet\n",
    "\n",
    "colors = [\n",
    "  [255, 0, 0],   # Rot\n",
    "  [0, 255, 0],   # Grün\n",
    "  [0, 0, 255],   # Blau\n",
    "  [255, 255, 0], # Gelb\n",
    "  [255, 0, 255], # Magenta\n",
    "  [0, 255, 255], # Cyan\n",
    "  [128, 0, 0],   # Dunkelrot\n",
    "  [0, 128, 0],   # Dunkelgrün\n",
    "  [0, 0, 128],   # Dunkelblau\n",
    "  [128, 128, 0], # Dunkelgelb\n",
    "  [128, 0, 128], # Dunkelmagenta\n",
    "  [0, 128, 128], # Dunkelcyan\n",
    "  [192, 192, 192], # Hellgrau\n",
    "  #[128, 128, 128], # Grau\n",
    "  #[255, 255, 255], # Weiß\n",
    "  #[0, 0, 0],     # Schwarz\n",
    "  [255, 128, 128], # Hellrot\n",
    "  [128, 255, 128], # Hellgrün\n",
    "  [128, 128, 255], # Hellblau\n",
    "  [255, 255, 128], # Hellgelb\n",
    "  [255, 128, 255], # Hellmagenta\n",
    "  [128, 255, 255], # Hellcyan\n",
    "  [255, 0, 128],   # Pink\n",
    "  [128, 255, 0],   # Limette\n",
    "  [0, 128, 255],   # Himmelblau\n",
    "  [255, 128, 0],   # Orange\n",
    "  [128, 0, 255],   # Lila\n",
    "  [0, 255, 128],   # Türkis\n",
    "  [255, 128, 64],  # Pfirsich\n",
    "  [64, 255, 128],  # Limonengrün\n",
    "  [128, 64, 255],  # Violett\n",
    "]"
   ]
  },
  {
   "cell_type": "markdown",
   "metadata": {},
   "source": [
    "# Praktikum 1"
   ]
  },
  {
   "cell_type": "code",
   "execution_count": 76,
   "metadata": {},
   "outputs": [
    {
     "name": "stdout",
     "output_type": "stream",
     "text": [
      "[0 0]\n",
      "[6.35474887e-05 6.35474887e-05]\n",
      "14.142135623730951\n"
     ]
    }
   ],
   "source": [
    "def Gaussian(x, sigma = 50):\n",
    "    return np.exp(-x**2 / (2 * sigma**2)) / (sigma * np.sqrt(2 * np.pi))\n",
    "print(np.abs(np.array([0, 0]) - np.array([0, 0])))\n",
    "print( Gaussian(np.absolute(1 - 4)) * Gaussian( np.abs(np.array([0, 0]) - np.array([0, 0] ) ) ) )\n",
    "print(np.linalg.norm( np.array([0, 1]) - np.array([10, 11])))"
   ]
  },
  {
   "cell_type": "code",
   "execution_count": 82,
   "metadata": {},
   "outputs": [
    {
     "name": "stderr",
     "output_type": "stream",
     "text": [
      "C:\\Users\\Johan\\AppData\\Local\\Temp\\ipykernel_23108\\2440048205.py:20: RuntimeWarning: overflow encountered in scalar subtract\n",
      "  fs = Gaussian( np.abs( img[x, y] - img[x1, y1] ) )\n"
     ]
    }
   ],
   "source": [
    "def edge_preserving_Smoothing(img=[], filtersize = 5, sigma = 50):\n",
    "    toRet = np.zeros(img.shape)\n",
    "    size = int(filtersize/2)\n",
    "    if len(img.shape) == 3:\n",
    "        height, width, depth = img.shape\n",
    "    else :\n",
    "        height, width = img.shape\n",
    "\n",
    "    for y in range(size, height - size):\n",
    "        for x in range(size ,width - size):\n",
    "            \n",
    "            if img.ndim == 3:\n",
    "                return\n",
    "            else:\n",
    "                Wp = 0\n",
    "                for i in range(-size, size):\n",
    "                    for j in range(-size, size):\n",
    "                        x1 = x + j\n",
    "                        y1 = y + i\n",
    "                        fs = Gaussian( np.abs( img[x, y] - img[x1, y1] ) )\n",
    "                        xs = Gaussian( np.linalg.norm( np.array([x, y]) - np.array([x1, y1]) ) )\n",
    "                        toRet[x, y] += img[x1, y1] * fs * xs\n",
    "                        Wp += fs * xs\n",
    "                toRet[x, y] /= Wp\n",
    "    \n",
    "    return np.array(toRet, dtype= np.uint8)\n",
    "\n",
    "img = get_Image('../Utils/LennaCol.png', 1, 0)\n",
    "filtered = edge_preserving_Smoothing(img, 3, 50)\n",
    "filtered2 = edge_preserving_Smoothing(filtered, 3)\n",
    "show_Image(img)\n",
    "show_Image(filtered2)\n",
    "filtered2 = cv2.cvtColor(filtered2, cv2.COLOR_RGB2BGR)\n",
    "from matplotlib.pyplot import imsave\n",
    "\n",
    "# Ihr Bild ist 'img' und Sie möchten es als 'output.png' speichern\n",
    "imsave('../Utils/BV2/output_edge2.jpg', filtered2)\n",
    "imsave('../Utils/BV2/output_edge1.jpg', filtered)"
   ]
  },
  {
   "cell_type": "markdown",
   "metadata": {},
   "source": [
    "# Praktikum 2"
   ]
  },
  {
   "cell_type": "markdown",
   "metadata": {},
   "source": [
    "## SSIM"
   ]
  },
  {
   "cell_type": "code",
   "execution_count": null,
   "metadata": {},
   "outputs": [],
   "source": [
    "from skimage.metrics import structural_similarity as ssim"
   ]
  },
  {
   "cell_type": "markdown",
   "metadata": {},
   "source": [
    "## Try with Edge Preserve Smoothing"
   ]
  },
  {
   "cell_type": "code",
   "execution_count": 89,
   "metadata": {},
   "outputs": [],
   "source": [
    "lenna_smooth = cv2.imread(\"../Utils/BV2/output_edge.jpg\", cv2.IMREAD_GRAYSCALE)\n",
    "lenna_smooth2 = cv2.imread(\"../Utils/BV2/output_edge2.jpg\", cv2.IMREAD_GRAYSCALE)\n",
    "lenna_smooth3 = cv2.imread(\"../Utils/BV2/output_edge3.jpg\", cv2.IMREAD_GRAYSCALE)\n",
    "lenna_smooth4 = cv2.imread(\"../Utils/BV2/output_edge4.jpg\", cv2.IMREAD_GRAYSCALE)\n",
    "lenna_smooth5 = cv2.imread(\"../Utils/BV2/output_edge5.jpg\", cv2.IMREAD_GRAYSCALE)\n",
    "lenna_gray = cv2.imread(\"../Utils/LennaCol.png\", cv2.IMREAD_GRAYSCALE)\n",
    "\n",
    "# print(ssim(lenna_gray, lenna_smooth))\n",
    "# print(ssim(lenna_gray, lenna_smooth2))\n",
    "# print(ssim(lenna_gray, lenna_smooth3))\n",
    "# print(ssim(lenna_gray, lenna_smooth4))\n",
    "# print(ssim(lenna_gray, lenna_smooth5))\n"
   ]
  },
  {
   "cell_type": "markdown",
   "metadata": {},
   "source": [
    "## Try with Colorshift"
   ]
  },
  {
   "cell_type": "code",
   "execution_count": 30,
   "metadata": {},
   "outputs": [
    {
     "name": "stdout",
     "output_type": "stream",
     "text": [
      "0.44835194263866507\n",
      "0.38945150677157453\n"
     ]
    }
   ],
   "source": [
    "img_for_SSIM = cv2.imread(\"../Utils/BV2/IMG_Landschaft.jpg\")\n",
    "img_for_SSIM_HSV = cv2.cvtColor(img_for_SSIM, cv2.COLOR_BGR2HSV)\n",
    "\n",
    "\n",
    "test = cv2.cvtColor(img_for_SSIM_HSV, cv2.COLOR_HSV2BGR)\n",
    "\n",
    "# Gewichte festlegen\n",
    "alpha = 2.0\n",
    "beta = 0.0\n",
    "gamma = 0.0\n",
    "\n",
    "# Farbshift erzeugen\n",
    "shifted_image = np.array(cv2.addWeighted(img_for_SSIM, alpha, img_for_SSIM, beta, gamma), dtype=np.uint8)\n",
    "shifted_image = shifted_image.clip(0, 255)\n",
    "shifted_image = cv2.cvtColor(shifted_image, cv2.COLOR_HSV2BGR)\n",
    "\n",
    "print(ssim(img_for_SSIM, shifted_image, channel_axis=2))\n",
    "\n",
    "\n",
    "\n",
    "\n",
    "\n",
    "    # \"\\n\",\n",
    "    # \"for y in range(height):\\n\",\n",
    "    # \"    for x in range(width):\\n\",\n",
    "    # \"        if(hsv[y,x,0] > 80 and hsv[y,x,0]< 100):\\n\",\n",
    "    # \"            hsv[y,x,1] *= 2\\n\",\n",
    "    # \"        if(hsv[x,y,0] > 80 and hsv[y,x,0]< 100):\\n\",\n",
    "    # \"            hsv[x,y,1] *= 2\\n\",\n",
    "    # \"\\n\",\n",
    "    # \"hsv[:,:,1] = np.clip(hsv[:,:,1], 0, 255).astype(np.uint8)\\n\",\n",
    "    # \"\\n\",\n",
    "\n"
   ]
  },
  {
   "cell_type": "markdown",
   "metadata": {},
   "source": [
    "## Try with Colorshift 2"
   ]
  },
  {
   "cell_type": "code",
   "execution_count": 48,
   "metadata": {},
   "outputs": [
    {
     "name": "stdout",
     "output_type": "stream",
     "text": [
      "0.62215230610332\n"
     ]
    }
   ],
   "source": [
    "img_for_SSIM = cv2.imread(\"../Utils/BV2/IMG_Landschaft.jpg\")\n",
    "\n",
    "img_for_SSIM_HSV = cv2.cvtColor(img_for_SSIM, cv2.COLOR_BGR2HSV)\n",
    "\n",
    "# height, width, depth = img_for_SSIM_HSV.shape\n",
    "\n",
    "# shifted_img_plus = img_for_SSIM_HSV.copy()\n",
    "# img_array = []\n",
    "# for i in range(1,6):\n",
    "#     for y in range(height):\n",
    "#         for x in range(width):\n",
    "#             shifted_img_plus[y, x, 0] += 42\n",
    "#             shifted_img_plus[y, x, 0] %= 255\n",
    "#     img_array.append(shifted_img_plus)\n",
    "\n",
    "# for i, img in enumerate(img_array):\n",
    "#     img = cv2.cvtColor(img, cv2.COLOR_HSV2BGR)\n",
    "#     cv2.imwrite(f'../Utils/BV2/Aufgabe02/shifts/shift{i}.png', img)\n",
    "#     print(ssim(img_for_SSIM, img, channel_axis=2))\n",
    "\n",
    "\n",
    "test = np.array(np.where((img_for_SSIM_HSV < 120) & (img_for_SSIM_HSV > 60), img_for_SSIM_HSV * 2, img_for_SSIM_HSV), dtype=np.uint8)\n",
    "test = cv2.cvtColor(test, cv2.COLOR_HSV2BGR)\n",
    "print(ssim(img_for_SSIM, test, channel_axis=2))\n",
    "show_Image(test, 0.5)\n",
    "\n",
    "\n",
    "# test = cv2.cvtColor(shifted_img_plus, cv2.COLOR_HSV2BGR)\n",
    "# test2 = cv2.cvtColor(shifted_img_minus, cv2.COLOR_HSV2BGR)\n",
    "\n",
    "# cv2.imwrite(\"shift_plus.png\", test)\n",
    "# cv2.imwrite(\"shift_minus.png\", test2)\n",
    "\n",
    "# print(ssim(img_for_SSIM, test, channel_axis=2))\n",
    "# print(ssim(img_for_SSIM, test2, channel_axis=2))"
   ]
  },
  {
   "cell_type": "markdown",
   "metadata": {},
   "source": [
    "## Bit Bilder"
   ]
  },
  {
   "cell_type": "code",
   "execution_count": 69,
   "metadata": {},
   "outputs": [],
   "source": [
    "def extract_bit(img=[], bits=2):\n",
    "    bitImages= []\n",
    "    for bit in range(bits):\n",
    "        bitMask = 1 << bit\n",
    "        bitplane = cv2.bitwise_and(img, bitMask)\n",
    "        bitImages.append(bitplane)\n",
    "        for i, bitImage in enumerate(bitImages):\n",
    "            cv2.imwrite(f'../Utils/BV2/bit_{i}.png', bitImage)\n",
    "\n",
    "# img_to_extract = cv2.imread('../Utils/BV2/versteckte_Nachricht_Dasbach.png', cv2.IMREAD_GRAYSCALE)\n",
    "# extract_bit(img_to_extract, 8)\n",
    "\n",
    "img_to_extract = cv2.imread('../Utils/BV2/versteckte_Nachricht_Dasbach.png')[:,:,0]\n",
    "extract_bit(img_to_extract, 8)\n"
   ]
  },
  {
   "cell_type": "code",
   "execution_count": 68,
   "metadata": {},
   "outputs": [
    {
     "name": "stdout",
     "output_type": "stream",
     "text": [
      "num white pixel: 830575\n",
      "mask max: 1\n",
      "bitplane max: 1\n",
      "inverse bitplane min: 254\n",
      "246\n",
      "0\n",
      "num uneven pixel 0\n",
      "246\n",
      "0\n",
      "num uneven pixel: 830575\n",
      "1\n"
     ]
    },
    {
     "data": {
      "text/plain": [
       "True"
      ]
     },
     "execution_count": 68,
     "metadata": {},
     "output_type": "execute_result"
    }
   ],
   "source": [
    "img_for_Bit = cv2.imread(\"../Utils/BV2/IMG_Landschaft.jpg\")\n",
    "b, g, r = cv2.split(img_for_Bit)\n",
    "\n",
    "mask_for_Bit = cv2.imread(\"../Utils/BV2/IMG_Landschaft_Mask.jpg\", cv2.IMREAD_GRAYSCALE)\n",
    "# cv2.imwrite(\"../Utils/BV2/IMG_Landschaft_Mask_reduziert.jpg\", mask_for_Bit)\n",
    "img_binary_for_Bit = np.array(cv2.threshold(mask_for_Bit, 128, 1, cv2.THRESH_BINARY)[1], dtype=np.uint8)\n",
    "\n",
    "\n",
    "\n",
    "bitPlane = cv2.bitwise_and(b, 1) # only lsb (00000001)\n",
    "\n",
    "bitPlane1 = cv2.bitwise_not(bitPlane) # everything espect lsb (11111110)\n",
    "\n",
    "b = cv2.bitwise_and(b, bitPlane1) # picture with lsb complete 0\n",
    "b1 = cv2.bitwise_or(b, img_binary_for_Bit)\n",
    "\n",
    "test = np.where(img_binary_for_Bit > 0)\n",
    "print('num white pixel:',len(test[0])) # no more uneven numbers ( lsb is everytime 0 )\n",
    "print('mask max:', np.max(img_binary_for_Bit)) # 1\n",
    "print('bitplane max:',np.max(bitPlane)) # 1\n",
    "print('inverse bitplane min:', np.min(bitPlane1)) # 254\n",
    "\n",
    "print(np.max(b)) # 246\n",
    "print(np.min(b)) # 0\n",
    "\n",
    "test = np.where(b % 2 != 0)\n",
    "print('num uneven pixel',len(test[0])) # no more uneven numbers ( lsb is everytime 0 )\n",
    "\n",
    "print(np.max(b1)) # 246\n",
    "print(np.min(b1)) # 0\n",
    "test = np.where(b1 % 2 != 0)\n",
    "print('num uneven pixel:', len(test[0])) # no more uneven numbers ( lsb is everytime 0 )\n",
    "\n",
    "# Es funktioniert doch\n",
    "bitPlane = cv2.bitwise_and(b1, 1)\n",
    "print(np.max(bitPlane))\n",
    "mask = np.array(np.where(bitPlane > 0, 255, 0), dtype=np.uint8)\n",
    "show_Image(mask)\n",
    "\n",
    "\n",
    "merged_img = cv2.merge((b1, g, r))\n",
    "cv2.imwrite('../Utils/BV2/versteckte_Nachricht_Dasbach.png', merged_img)"
   ]
  },
  {
   "cell_type": "code",
   "execution_count": 31,
   "metadata": {},
   "outputs": [
    {
     "ename": "error",
     "evalue": "OpenCV(4.7.0) D:\\a\\opencv-python\\opencv-python\\opencv\\modules\\core\\src\\arithm.cpp:214: error: (-209:Sizes of input arguments do not match) The operation is neither 'array op array' (where arrays have the same size and type), nor 'array op scalar', nor 'scalar op array' in function 'cv::binary_op'\n",
     "output_type": "error",
     "traceback": [
      "\u001b[1;31m---------------------------------------------------------------------------\u001b[0m",
      "\u001b[1;31merror\u001b[0m                                     Traceback (most recent call last)",
      "\u001b[1;32md:\\Stuff\\Github\\Bildverarbeitung_THKoeln\\Johan\\BV2.ipynb Cell 13\u001b[0m line \u001b[0;36m1\n\u001b[0;32m      <a href='vscode-notebook-cell:/d%3A/Stuff/Github/Bildverarbeitung_THKoeln/Johan/BV2.ipynb#X15sZmlsZQ%3D%3D?line=8'>9</a>\u001b[0m b, g, r \u001b[39m=\u001b[39m cv2\u001b[39m.\u001b[39msplit(img)\n\u001b[0;32m     <a href='vscode-notebook-cell:/d%3A/Stuff/Github/Bildverarbeitung_THKoeln/Johan/BV2.ipynb#X15sZmlsZQ%3D%3D?line=10'>11</a>\u001b[0m \u001b[39m# Ersetzen Sie den letzten Bit des Blaukanals durch das Binärbild\u001b[39;00m\n\u001b[1;32m---> <a href='vscode-notebook-cell:/d%3A/Stuff/Github/Bildverarbeitung_THKoeln/Johan/BV2.ipynb#X15sZmlsZQ%3D%3D?line=11'>12</a>\u001b[0m b \u001b[39m=\u001b[39m cv2\u001b[39m.\u001b[39;49mbitwise_or(img, binary_img) \n\u001b[0;32m     <a href='vscode-notebook-cell:/d%3A/Stuff/Github/Bildverarbeitung_THKoeln/Johan/BV2.ipynb#X15sZmlsZQ%3D%3D?line=12'>13</a>\u001b[0m \u001b[39m# Kombinieren Sie die Kanäle wieder\u001b[39;00m\n\u001b[0;32m     <a href='vscode-notebook-cell:/d%3A/Stuff/Github/Bildverarbeitung_THKoeln/Johan/BV2.ipynb#X15sZmlsZQ%3D%3D?line=13'>14</a>\u001b[0m img \u001b[39m=\u001b[39m cv2\u001b[39m.\u001b[39mmerge((b, g, r))\n",
      "\u001b[1;31merror\u001b[0m: OpenCV(4.7.0) D:\\a\\opencv-python\\opencv-python\\opencv\\modules\\core\\src\\arithm.cpp:214: error: (-209:Sizes of input arguments do not match) The operation is neither 'array op array' (where arrays have the same size and type), nor 'array op scalar', nor 'scalar op array' in function 'cv::binary_op'\n"
     ]
    }
   ],
   "source": [
    "\n",
    "# Laden Sie das Bild\n",
    "img = cv2.imread(\"../Utils/BV2/IMG_Landschaft.jpg\")\n",
    "\n",
    "# Laden Sie das Binärbild\n",
    "binary_img = cv2.imread(\"../Utils/BV2/IMG_Landschaft_Mask.jpg\", cv2.IMREAD_GRAYSCALE)\n",
    "\n",
    "# Zerlegen Sie das Bild in Kanäle\n",
    "b, g, r = cv2.split(img)\n",
    "\n",
    "# Ersetzen Sie den letzten Bit des Blaukanals durch das Binärbild\n",
    "b = cv2.bitwise_or(img, binary_img) \n",
    "# Kombinieren Sie die Kanäle wieder\n",
    "img = cv2.merge((b, g, r))\n",
    "# Speichern Sie das Bild\n",
    "# cv2.imwrite('../Utils/BV2/versteckte_Nachricht_Dasbach.jpg', img)\n"
   ]
  },
  {
   "cell_type": "code",
   "execution_count": 35,
   "metadata": {},
   "outputs": [
    {
     "name": "stdout",
     "output_type": "stream",
     "text": [
      "(1800, 4000, 3)\n",
      "(1800, 4000)\n"
     ]
    },
    {
     "data": {
      "text/plain": [
       "True"
      ]
     },
     "execution_count": 35,
     "metadata": {},
     "output_type": "execute_result"
    }
   ],
   "source": [
    "original_image = cv2.imread('../Utils/BV2/IMG_Landschaft.jpg')\n",
    "binary_image = cv2.imread('../Utils/BV2/IMG_Landschaft_Mask.jpg', cv2.IMREAD_GRAYSCALE)\n",
    "\n",
    "# Konvertiere das Binärbild in ein Binärbild mit Werten 0 und 1\n",
    "binary_image = np.where(binary_image > 0, 1, 0)\n",
    "\n",
    "# Setze das LSB des blauen Kanals auf das entsprechende Bit des Binärbildes\n",
    "original_image[:, :, 0] = (original_image[:, :, 0] & 0xFE) | binary_image\n",
    "\n",
    "# Speichere das resultierende Bild\n",
    "cv2.imwrite('result.jpg', original_image)\n",
    "\n"
   ]
  },
  {
   "cell_type": "code",
   "execution_count": 55,
   "metadata": {},
   "outputs": [
    {
     "name": "stdout",
     "output_type": "stream",
     "text": [
      "(1800, 4000, 3)\n",
      "(1800, 4000)\n"
     ]
    },
    {
     "data": {
      "text/plain": [
       "True"
      ]
     },
     "execution_count": 55,
     "metadata": {},
     "output_type": "execute_result"
    }
   ],
   "source": [
    "def changeLSB(msg_value, carrier_value):\n",
    "    if msg_value == 1:\n",
    "        new_value = int(carrier_value) | 1\n",
    "    else:\n",
    "        new_value = int(carrier_value) & 254\n",
    "    return new_value\n",
    "\n",
    "img_for_Bit = cv2.imread(\"../Utils/BV2/IMG_Landschaft.jpg\")\n",
    "b, g, r = cv2.split(img_for_Bit)\n",
    "mask_for_Bit = cv2.imread(\"../Utils/BV2/IMG_Landschaft_Mask.jpg\", cv2.IMREAD_GRAYSCALE)\n",
    "# img_binary_for_Bit = cv2.threshold(mask_for_Bit, 128, 1, cv2.THRESH_BINARY)[1]\n",
    "img_binary_for_Bit = np.array(np.where(mask_for_Bit > 0, 1, 0), dtype= np.uint8)\n",
    "\n",
    "cv2.imwrite(\"../Utils/BV2/IMG_Landschaft_Mask_binary.jpg\", img_binary_for_Bit)\n",
    "\n",
    "if len(img_for_Bit.shape) == 3:\n",
    "    height, width, depth = img_for_Bit.shape\n",
    "else :\n",
    "    height, width = img_for_Bit.shape\n",
    "for y in range(height):\n",
    "    for x in range(width):\n",
    "        b[y,x] = changeLSB(img_binary_for_Bit[y,x], b[y,x])\n",
    "\n",
    "img = cv2.merge((b, g, r))\n",
    "\n",
    "# Speichern Sie das Bild\n",
    "cv2.imwrite('../Utils/BV2/versteckte_Nachricht_Dasbach.jpg', img)"
   ]
  },
  {
   "cell_type": "code",
   "execution_count": 75,
   "metadata": {},
   "outputs": [
    {
     "data": {
      "text/plain": [
       "True"
      ]
     },
     "execution_count": 75,
     "metadata": {},
     "output_type": "execute_result"
    }
   ],
   "source": [
    "bit_0 = cv2.imread('../Utils/BV2/bit_0.jpg')\n",
    "mask = np.array(np.where(bit_0 > 0, 255, 0), dtype=np.uint8)\n",
    "cv2.imwrite(\"../Utils/BV2/bit_0_false.png\", mask)\n"
   ]
  }
 ],
 "metadata": {
  "kernelspec": {
   "display_name": "env",
   "language": "python",
   "name": "python3"
  },
  "language_info": {
   "codemirror_mode": {
    "name": "ipython",
    "version": 3
   },
   "file_extension": ".py",
   "mimetype": "text/x-python",
   "name": "python",
   "nbconvert_exporter": "python",
   "pygments_lexer": "ipython3",
   "version": "3.11.3"
  }
 },
 "nbformat": 4,
 "nbformat_minor": 2
}
