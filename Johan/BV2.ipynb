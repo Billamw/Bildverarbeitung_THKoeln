{
 "cells": [
  {
   "cell_type": "markdown",
   "metadata": {},
   "source": []
  },
  {
   "cell_type": "markdown",
   "metadata": {},
   "source": [
    "# Utils"
   ]
  },
  {
   "cell_type": "code",
   "execution_count": 1,
   "metadata": {},
   "outputs": [
    {
     "name": "stdout",
     "output_type": "stream",
     "text": [
      "OpenCV bindings requires \"numpy\" package.\n",
      "Install it via command:\n",
      "    pip install numpy\n"
     ]
    },
    {
     "ename": "ModuleNotFoundError",
     "evalue": "No module named 'numpy._utils'",
     "output_type": "error",
     "traceback": [
      "\u001b[1;31m---------------------------------------------------------------------------\u001b[0m",
      "\u001b[1;31mModuleNotFoundError\u001b[0m                       Traceback (most recent call last)",
      "\u001b[1;32mc:\\Volume D\\Stuff\\GitHub\\Bildverarbeitung_THKoeln\\Johan\\BV2.ipynb Cell 3\u001b[0m line \u001b[0;36m1\n\u001b[1;32m----> <a href='vscode-notebook-cell:/c%3A/Volume%20D/Stuff/GitHub/Bildverarbeitung_THKoeln/Johan/BV2.ipynb#W2sZmlsZQ%3D%3D?line=0'>1</a>\u001b[0m \u001b[39mimport\u001b[39;00m \u001b[39mcv2\u001b[39;00m \u001b[39mas\u001b[39;00m \u001b[39mcv2\u001b[39;00m\n\u001b[0;32m      <a href='vscode-notebook-cell:/c%3A/Volume%20D/Stuff/GitHub/Bildverarbeitung_THKoeln/Johan/BV2.ipynb#W2sZmlsZQ%3D%3D?line=1'>2</a>\u001b[0m \u001b[39mimport\u001b[39;00m \u001b[39mnumpy\u001b[39;00m \u001b[39mas\u001b[39;00m \u001b[39mnp\u001b[39;00m\n\u001b[0;32m      <a href='vscode-notebook-cell:/c%3A/Volume%20D/Stuff/GitHub/Bildverarbeitung_THKoeln/Johan/BV2.ipynb#W2sZmlsZQ%3D%3D?line=2'>3</a>\u001b[0m \u001b[39mimport\u001b[39;00m \u001b[39mmatplotlib\u001b[39;00m\u001b[39m.\u001b[39;00m\u001b[39mpyplot\u001b[39;00m \u001b[39mas\u001b[39;00m \u001b[39mplt\u001b[39;00m\n",
      "File \u001b[1;32mc:\\Volume D\\Stuff\\GitHub\\Bildverarbeitung_THKoeln\\env\\Lib\\site-packages\\cv2\\__init__.py:11\u001b[0m\n\u001b[0;32m      8\u001b[0m __all__ \u001b[39m=\u001b[39m []\n\u001b[0;32m     10\u001b[0m \u001b[39mtry\u001b[39;00m:\n\u001b[1;32m---> 11\u001b[0m     \u001b[39mimport\u001b[39;00m \u001b[39mnumpy\u001b[39;00m\n\u001b[0;32m     12\u001b[0m     \u001b[39mimport\u001b[39;00m \u001b[39mnumpy\u001b[39;00m\u001b[39m.\u001b[39;00m\u001b[39mcore\u001b[39;00m\u001b[39m.\u001b[39;00m\u001b[39mmultiarray\u001b[39;00m\n\u001b[0;32m     13\u001b[0m \u001b[39mexcept\u001b[39;00m \u001b[39mImportError\u001b[39;00m:\n",
      "File \u001b[1;32mc:\\Volume D\\Stuff\\GitHub\\Bildverarbeitung_THKoeln\\env\\Lib\\site-packages\\numpy\\__init__.py:119\u001b[0m\n\u001b[0;32m    116\u001b[0m \u001b[39mimport\u001b[39;00m \u001b[39msys\u001b[39;00m\n\u001b[0;32m    117\u001b[0m \u001b[39mimport\u001b[39;00m \u001b[39mwarnings\u001b[39;00m\n\u001b[1;32m--> 119\u001b[0m \u001b[39mfrom\u001b[39;00m \u001b[39m.\u001b[39;00m\u001b[39m_globals\u001b[39;00m \u001b[39mimport\u001b[39;00m _NoValue, _CopyMode\n\u001b[0;32m    120\u001b[0m \u001b[39m# These exceptions were moved in 1.25 and are hidden from __dir__()\u001b[39;00m\n\u001b[0;32m    121\u001b[0m \u001b[39mfrom\u001b[39;00m \u001b[39m.\u001b[39;00m\u001b[39mexceptions\u001b[39;00m \u001b[39mimport\u001b[39;00m (\n\u001b[0;32m    122\u001b[0m     ComplexWarning, ModuleDeprecationWarning, VisibleDeprecationWarning,\n\u001b[0;32m    123\u001b[0m     TooHardError, AxisError)\n",
      "File \u001b[1;32mc:\\Volume D\\Stuff\\GitHub\\Bildverarbeitung_THKoeln\\env\\Lib\\site-packages\\numpy\\_globals.py:20\u001b[0m\n\u001b[0;32m      1\u001b[0m \u001b[39m\"\"\"\u001b[39;00m\n\u001b[0;32m      2\u001b[0m \u001b[39mModule defining global singleton classes.\u001b[39;00m\n\u001b[0;32m      3\u001b[0m \n\u001b[1;32m   (...)\u001b[0m\n\u001b[0;32m     16\u001b[0m \n\u001b[0;32m     17\u001b[0m \u001b[39m\"\"\"\u001b[39;00m\n\u001b[0;32m     18\u001b[0m \u001b[39mimport\u001b[39;00m \u001b[39menum\u001b[39;00m\n\u001b[1;32m---> 20\u001b[0m \u001b[39mfrom\u001b[39;00m \u001b[39m.\u001b[39;00m\u001b[39m_utils\u001b[39;00m \u001b[39mimport\u001b[39;00m set_module \u001b[39mas\u001b[39;00m _set_module\n\u001b[0;32m     22\u001b[0m __all__ \u001b[39m=\u001b[39m [\u001b[39m'\u001b[39m\u001b[39m_NoValue\u001b[39m\u001b[39m'\u001b[39m, \u001b[39m'\u001b[39m\u001b[39m_CopyMode\u001b[39m\u001b[39m'\u001b[39m]\n\u001b[0;32m     25\u001b[0m \u001b[39m# Disallow reloading this module so as to preserve the identities of the\u001b[39;00m\n\u001b[0;32m     26\u001b[0m \u001b[39m# classes defined here.\u001b[39;00m\n",
      "\u001b[1;31mModuleNotFoundError\u001b[0m: No module named 'numpy._utils'"
     ]
    }
   ],
   "source": [
    "import cv2 as cv2\n",
    "import numpy as np\n",
    "import matplotlib.pyplot as plt\n",
    "\n",
    "\n",
    "imgCol = cv2.imread('../Utils/LenaJPEG.jpg')\n",
    "\n",
    "def plotSignal(signal=[], title='', xmin = 0, xmax = 0):\n",
    "  if(xmax == 0):\n",
    "    xmax = signal.size\n",
    "\n",
    "  plt.title(title)\n",
    "  plt.plot(signal)\n",
    "  plt.xlim(xmin, xmax)\n",
    "  plt.show() \n",
    "\n",
    "def show_Image(img=[], resize=-1, title='img'):\n",
    "    if len(img.shape) == 3:\n",
    "        height, width, depth = img.shape\n",
    "    else :\n",
    "        height, width = img.shape\n",
    "    if 0 < resize < 2:\n",
    "      img = cv2.resize(img, [int(width*resize), int(height*resize)])\n",
    "    cv2.imshow(title, img)\n",
    "    cv2.waitKey(0)\n",
    "    cv2.destroyAllWindows()\n",
    "\n",
    "def get_Image(path='../Utils/LenaJPEG.jpg', resize=-1, color = 0):\n",
    "    toRet = cv2.imread(path, color)\n",
    "    if 0 < resize < 2:\n",
    "      if len(toRet.shape) == 3:\n",
    "          height, width, depth = toRet.shape\n",
    "      else :\n",
    "          height, width = toRet.shape\n",
    "      toRet = cv2.resize(toRet, [int(width*resize), int(height*resize)])\n",
    "    return toRet\n",
    "\n",
    "colors = [\n",
    "  [255, 0, 0],   # Rot\n",
    "  [0, 255, 0],   # Grün\n",
    "  [0, 0, 255],   # Blau\n",
    "  [255, 255, 0], # Gelb\n",
    "  [255, 0, 255], # Magenta\n",
    "  [0, 255, 255], # Cyan\n",
    "  [128, 0, 0],   # Dunkelrot\n",
    "  [0, 128, 0],   # Dunkelgrün\n",
    "  [0, 0, 128],   # Dunkelblau\n",
    "  [128, 128, 0], # Dunkelgelb\n",
    "  [128, 0, 128], # Dunkelmagenta\n",
    "  [0, 128, 128], # Dunkelcyan\n",
    "  [192, 192, 192], # Hellgrau\n",
    "  #[128, 128, 128], # Grau\n",
    "  #[255, 255, 255], # Weiß\n",
    "  #[0, 0, 0],     # Schwarz\n",
    "  [255, 128, 128], # Hellrot\n",
    "  [128, 255, 128], # Hellgrün\n",
    "  [128, 128, 255], # Hellblau\n",
    "  [255, 255, 128], # Hellgelb\n",
    "  [255, 128, 255], # Hellmagenta\n",
    "  [128, 255, 255], # Hellcyan\n",
    "  [255, 0, 128],   # Pink\n",
    "  [128, 255, 0],   # Limette\n",
    "  [0, 128, 255],   # Himmelblau\n",
    "  [255, 128, 0],   # Orange\n",
    "  [128, 0, 255],   # Lila\n",
    "  [0, 255, 128],   # Türkis\n",
    "  [255, 128, 64],  # Pfirsich\n",
    "  [64, 255, 128],  # Limonengrün\n",
    "  [128, 64, 255],  # Violett\n",
    "]"
   ]
  },
  {
   "cell_type": "markdown",
   "metadata": {},
   "source": [
    "# Praktikum 1"
   ]
  },
  {
   "cell_type": "code",
   "execution_count": 76,
   "metadata": {},
   "outputs": [
    {
     "name": "stdout",
     "output_type": "stream",
     "text": [
      "[0 0]\n",
      "[6.35474887e-05 6.35474887e-05]\n",
      "14.142135623730951\n"
     ]
    }
   ],
   "source": [
    "def Gaussian(x, sigma = 50):\n",
    "    return np.exp(-x**2 / (2 * sigma**2)) / (sigma * np.sqrt(2 * np.pi))\n",
    "print(np.abs(np.array([0, 0]) - np.array([0, 0])))\n",
    "print( Gaussian(np.absolute(1 - 4)) * Gaussian( np.abs(np.array([0, 0]) - np.array([0, 0] ) ) ) )\n",
    "print(np.linalg.norm( np.array([0, 1]) - np.array([10, 11])))"
   ]
  },
  {
   "cell_type": "code",
   "execution_count": 82,
   "metadata": {},
   "outputs": [
    {
     "name": "stderr",
     "output_type": "stream",
     "text": [
      "C:\\Users\\Johan\\AppData\\Local\\Temp\\ipykernel_23108\\2440048205.py:20: RuntimeWarning: overflow encountered in scalar subtract\n",
      "  fs = Gaussian( np.abs( img[x, y] - img[x1, y1] ) )\n"
     ]
    }
   ],
   "source": [
    "def edge_preserving_Smoothing(img=[], filtersize = 5, sigma = 50):\n",
    "    toRet = np.zeros(img.shape)\n",
    "    size = int(filtersize/2)\n",
    "    if len(img.shape) == 3:\n",
    "        height, width, depth = img.shape\n",
    "    else :\n",
    "        height, width = img.shape\n",
    "\n",
    "    for y in range(size, height - size):\n",
    "        for x in range(size ,width - size):\n",
    "            \n",
    "            if img.ndim == 3:\n",
    "                return\n",
    "            else:\n",
    "                Wp = 0\n",
    "                for i in range(-size, size):\n",
    "                    for j in range(-size, size):\n",
    "                        x1 = x + j\n",
    "                        y1 = y + i\n",
    "                        fs = Gaussian( np.abs( img[x, y] - img[x1, y1] ) )\n",
    "                        xs = Gaussian( np.linalg.norm( np.array([x, y]) - np.array([x1, y1]) ) )\n",
    "                        toRet[x, y] += img[x1, y1] * fs * xs\n",
    "                        Wp += fs * xs\n",
    "                toRet[x, y] /= Wp\n",
    "    \n",
    "    return np.array(toRet, dtype= np.uint8)\n",
    "\n",
    "img = get_Image('../Utils/LennaCol.png', 1, 0)\n",
    "filtered = edge_preserving_Smoothing(img, 3, 50)\n",
    "filtered2 = edge_preserving_Smoothing(filtered, 3)\n",
    "show_Image(img)\n",
    "show_Image(filtered2)\n",
    "filtered2 = cv2.cvtColor(filtered2, cv2.COLOR_RGB2BGR)\n",
    "from matplotlib.pyplot import imsave\n",
    "\n",
    "# Ihr Bild ist 'img' und Sie möchten es als 'output.png' speichern\n",
    "imsave('../Utils/BV2/output_edge2.jpg', filtered2)\n",
    "imsave('../Utils/BV2/output_edge1.jpg', filtered)"
   ]
  },
  {
   "cell_type": "markdown",
   "metadata": {},
   "source": [
    "# Praktikum 2"
   ]
  },
  {
   "cell_type": "markdown",
   "metadata": {},
   "source": [
    "## SSIM"
   ]
  },
  {
   "cell_type": "code",
   "execution_count": 2,
   "metadata": {},
   "outputs": [],
   "source": [
    "from skimage.metrics import structural_similarity as ssim"
   ]
  },
  {
   "cell_type": "markdown",
   "metadata": {},
   "source": [
    "## Try with Edge Preserve Smoothing"
   ]
  },
  {
   "cell_type": "code",
   "execution_count": 89,
   "metadata": {},
   "outputs": [],
   "source": [
    "lenna_smooth = cv2.imread(\"../Utils/BV2/output_edge.jpg\", cv2.IMREAD_GRAYSCALE)\n",
    "lenna_smooth2 = cv2.imread(\"../Utils/BV2/output_edge2.jpg\", cv2.IMREAD_GRAYSCALE)\n",
    "lenna_smooth3 = cv2.imread(\"../Utils/BV2/output_edge3.jpg\", cv2.IMREAD_GRAYSCALE)\n",
    "lenna_smooth4 = cv2.imread(\"../Utils/BV2/output_edge4.jpg\", cv2.IMREAD_GRAYSCALE)\n",
    "lenna_smooth5 = cv2.imread(\"../Utils/BV2/output_edge5.jpg\", cv2.IMREAD_GRAYSCALE)\n",
    "lenna_gray = cv2.imread(\"../Utils/LennaCol.png\", cv2.IMREAD_GRAYSCALE)\n",
    "\n",
    "# print(ssim(lenna_gray, lenna_smooth))\n",
    "# print(ssim(lenna_gray, lenna_smooth2))\n",
    "# print(ssim(lenna_gray, lenna_smooth3))\n",
    "# print(ssim(lenna_gray, lenna_smooth4))\n",
    "# print(ssim(lenna_gray, lenna_smooth5))\n"
   ]
  },
  {
   "cell_type": "markdown",
   "metadata": {},
   "source": [
    "## Try with Colorshift"
   ]
  },
  {
   "cell_type": "code",
   "execution_count": 30,
   "metadata": {},
   "outputs": [
    {
     "name": "stdout",
     "output_type": "stream",
     "text": [
      "0.44835194263866507\n",
      "0.38945150677157453\n"
     ]
    }
   ],
   "source": [
    "img_for_SSIM = cv2.imread(\"../Utils/BV2/IMG_Landschaft.jpg\")\n",
    "img_for_SSIM_HSV = cv2.cvtColor(img_for_SSIM, cv2.COLOR_BGR2HSV)\n",
    "\n",
    "\n",
    "test = cv2.cvtColor(img_for_SSIM_HSV, cv2.COLOR_HSV2BGR)\n",
    "\n",
    "# Gewichte festlegen\n",
    "alpha = 2.0\n",
    "beta = 0.0\n",
    "gamma = 0.0\n",
    "\n",
    "# Farbshift erzeugen\n",
    "shifted_image = np.array(cv2.addWeighted(img_for_SSIM, alpha, img_for_SSIM, beta, gamma), dtype=np.uint8)\n",
    "shifted_image = shifted_image.clip(0, 255)\n",
    "shifted_image = cv2.cvtColor(shifted_image, cv2.COLOR_HSV2BGR)\n",
    "\n",
    "print(ssim(img_for_SSIM, shifted_image, channel_axis=2))\n",
    "\n",
    "\n",
    "\n",
    "\n",
    "\n",
    "    # \"\\n\",\n",
    "    # \"for y in range(height):\\n\",\n",
    "    # \"    for x in range(width):\\n\",\n",
    "    # \"        if(hsv[y,x,0] > 80 and hsv[y,x,0]< 100):\\n\",\n",
    "    # \"            hsv[y,x,1] *= 2\\n\",\n",
    "    # \"        if(hsv[x,y,0] > 80 and hsv[y,x,0]< 100):\\n\",\n",
    "    # \"            hsv[x,y,1] *= 2\\n\",\n",
    "    # \"\\n\",\n",
    "    # \"hsv[:,:,1] = np.clip(hsv[:,:,1], 0, 255).astype(np.uint8)\\n\",\n",
    "    # \"\\n\",\n",
    "\n"
   ]
  },
  {
   "cell_type": "markdown",
   "metadata": {},
   "source": [
    "## Try with Colorshift 2"
   ]
  },
  {
   "cell_type": "code",
   "execution_count": 48,
   "metadata": {},
   "outputs": [
    {
     "name": "stdout",
     "output_type": "stream",
     "text": [
      "0.62215230610332\n"
     ]
    }
   ],
   "source": [
    "img_for_SSIM = cv2.imread(\"../Utils/BV2/IMG_Landschaft.jpg\")\n",
    "\n",
    "img_for_SSIM_HSV = cv2.cvtColor(img_for_SSIM, cv2.COLOR_BGR2HSV)\n",
    "\n",
    "# height, width, depth = img_for_SSIM_HSV.shape\n",
    "\n",
    "# shifted_img_plus = img_for_SSIM_HSV.copy()\n",
    "# img_array = []\n",
    "# for i in range(1,6):\n",
    "#     for y in range(height):\n",
    "#         for x in range(width):\n",
    "#             shifted_img_plus[y, x, 0] += 42\n",
    "#             shifted_img_plus[y, x, 0] %= 255\n",
    "#     img_array.append(shifted_img_plus)\n",
    "\n",
    "# for i, img in enumerate(img_array):\n",
    "#     img = cv2.cvtColor(img, cv2.COLOR_HSV2BGR)\n",
    "#     cv2.imwrite(f'../Utils/BV2/Aufgabe02/shifts/shift{i}.png', img)\n",
    "#     print(ssim(img_for_SSIM, img, channel_axis=2))\n",
    "\n",
    "\n",
    "test = np.array(np.where((img_for_SSIM_HSV < 120) & (img_for_SSIM_HSV > 60), img_for_SSIM_HSV * 2, img_for_SSIM_HSV), dtype=np.uint8)\n",
    "test = cv2.cvtColor(test, cv2.COLOR_HSV2BGR)\n",
    "print(ssim(img_for_SSIM, test, channel_axis=2))\n",
    "show_Image(test, 0.5)\n",
    "\n",
    "\n",
    "# test = cv2.cvtColor(shifted_img_plus, cv2.COLOR_HSV2BGR)\n",
    "# test2 = cv2.cvtColor(shifted_img_minus, cv2.COLOR_HSV2BGR)\n",
    "\n",
    "# cv2.imwrite(\"shift_plus.png\", test)\n",
    "# cv2.imwrite(\"shift_minus.png\", test2)\n",
    "\n",
    "# print(ssim(img_for_SSIM, test, channel_axis=2))\n",
    "# print(ssim(img_for_SSIM, test2, channel_axis=2))"
   ]
  },
  {
   "cell_type": "markdown",
   "metadata": {},
   "source": [
    "## Try with contrast"
   ]
  },
  {
   "cell_type": "code",
   "execution_count": 9,
   "metadata": {},
   "outputs": [
    {
     "ename": "ValueError",
     "evalue": "Input images must have the same dimensions.",
     "output_type": "error",
     "traceback": [
      "\u001b[1;31m---------------------------------------------------------------------------\u001b[0m",
      "\u001b[1;31mValueError\u001b[0m                                Traceback (most recent call last)",
      "\u001b[1;32md:\\Stuff\\Github\\Bildverarbeitung_THKoeln\\Johan\\BV2.ipynb Cell 16\u001b[0m line \u001b[0;36m9\n\u001b[0;32m     <a href='vscode-notebook-cell:/d%3A/Stuff/Github/Bildverarbeitung_THKoeln/Johan/BV2.ipynb#X32sZmlsZQ%3D%3D?line=91'>92</a>\u001b[0m     \u001b[39mreturn\u001b[39;00m toRet\n\u001b[0;32m     <a href='vscode-notebook-cell:/d%3A/Stuff/Github/Bildverarbeitung_THKoeln/Johan/BV2.ipynb#X32sZmlsZQ%3D%3D?line=94'>95</a>\u001b[0m adjusted \u001b[39m=\u001b[39m autoContrast(im, \u001b[39m0.1\u001b[39m)\n\u001b[1;32m---> <a href='vscode-notebook-cell:/d%3A/Stuff/Github/Bildverarbeitung_THKoeln/Johan/BV2.ipynb#X32sZmlsZQ%3D%3D?line=95'>96</a>\u001b[0m \u001b[39mprint\u001b[39m(ssim(im, adjusted, channel_axis\u001b[39m=\u001b[39;49m\u001b[39m2\u001b[39;49m))\n\u001b[0;32m     <a href='vscode-notebook-cell:/d%3A/Stuff/Github/Bildverarbeitung_THKoeln/Johan/BV2.ipynb#X32sZmlsZQ%3D%3D?line=96'>97</a>\u001b[0m show_Image(adjusted, \u001b[39m0.5\u001b[39m)\n",
      "File \u001b[1;32md:\\Stuff\\Github\\Bildverarbeitung_THKoeln\\env\\Lib\\site-packages\\skimage\\metrics\\_structural_similarity.py:111\u001b[0m, in \u001b[0;36mstructural_similarity\u001b[1;34m(im1, im2, win_size, gradient, data_range, channel_axis, gaussian_weights, full, **kwargs)\u001b[0m\n\u001b[0;32m     15\u001b[0m \u001b[39mdef\u001b[39;00m \u001b[39mstructural_similarity\u001b[39m(im1, im2,\n\u001b[0;32m     16\u001b[0m                           \u001b[39m*\u001b[39m,\n\u001b[0;32m     17\u001b[0m                           win_size\u001b[39m=\u001b[39m\u001b[39mNone\u001b[39;00m, gradient\u001b[39m=\u001b[39m\u001b[39mFalse\u001b[39;00m, data_range\u001b[39m=\u001b[39m\u001b[39mNone\u001b[39;00m,\n\u001b[0;32m     18\u001b[0m                           channel_axis\u001b[39m=\u001b[39m\u001b[39mNone\u001b[39;00m,\n\u001b[0;32m     19\u001b[0m                           gaussian_weights\u001b[39m=\u001b[39m\u001b[39mFalse\u001b[39;00m, full\u001b[39m=\u001b[39m\u001b[39mFalse\u001b[39;00m, \u001b[39m*\u001b[39m\u001b[39m*\u001b[39mkwargs):\n\u001b[0;32m     20\u001b[0m \u001b[39m    \u001b[39m\u001b[39m\"\"\"\u001b[39;00m\n\u001b[0;32m     21\u001b[0m \u001b[39m    Compute the mean structural similarity index between two images.\u001b[39;00m\n\u001b[0;32m     22\u001b[0m \u001b[39m    Please pay attention to the `data_range` parameter with floating-point images.\u001b[39;00m\n\u001b[1;32m   (...)\u001b[0m\n\u001b[0;32m    109\u001b[0m \n\u001b[0;32m    110\u001b[0m \u001b[39m    \"\"\"\u001b[39;00m\n\u001b[1;32m--> 111\u001b[0m     check_shape_equality(im1, im2)\n\u001b[0;32m    112\u001b[0m     float_type \u001b[39m=\u001b[39m _supported_float_type(im1\u001b[39m.\u001b[39mdtype)\n\u001b[0;32m    114\u001b[0m     \u001b[39mif\u001b[39;00m channel_axis \u001b[39mis\u001b[39;00m \u001b[39mnot\u001b[39;00m \u001b[39mNone\u001b[39;00m:\n\u001b[0;32m    115\u001b[0m         \u001b[39m# loop over channels\u001b[39;00m\n",
      "File \u001b[1;32md:\\Stuff\\Github\\Bildverarbeitung_THKoeln\\env\\Lib\\site-packages\\skimage\\_shared\\utils.py:504\u001b[0m, in \u001b[0;36mcheck_shape_equality\u001b[1;34m(*images)\u001b[0m\n\u001b[0;32m    502\u001b[0m image0 \u001b[39m=\u001b[39m images[\u001b[39m0\u001b[39m]\n\u001b[0;32m    503\u001b[0m \u001b[39mif\u001b[39;00m \u001b[39mnot\u001b[39;00m \u001b[39mall\u001b[39m(image0\u001b[39m.\u001b[39mshape \u001b[39m==\u001b[39m image\u001b[39m.\u001b[39mshape \u001b[39mfor\u001b[39;00m image \u001b[39min\u001b[39;00m images[\u001b[39m1\u001b[39m:]):\n\u001b[1;32m--> 504\u001b[0m     \u001b[39mraise\u001b[39;00m \u001b[39mValueError\u001b[39;00m(\u001b[39m'\u001b[39m\u001b[39mInput images must have the same dimensions.\u001b[39m\u001b[39m'\u001b[39m)\n\u001b[0;32m    505\u001b[0m \u001b[39mreturn\u001b[39;00m\n",
      "\u001b[1;31mValueError\u001b[0m: Input images must have the same dimensions."
     ]
    }
   ],
   "source": [
    "im = cv2.imread(\"../Utils/BV2/IMG_Landschaft.jpg\")\n",
    "# # Kontrast erhöhen\n",
    "# alpha = 1.2\n",
    "# beta = 20\n",
    "# adjusted = cv2.addWeighted(im, alpha, im, 0, beta)\n",
    "\n",
    "# show_Image(adjusted)\n",
    "# print(ssim(im, adjusted, channel_axis=2))\n",
    "# # Kontrast verringern\n",
    "# alpha = 0.2\n",
    "# beta = -20\n",
    "# adjusted = cv2.addWeighted(im, alpha, im, 0, beta)\n",
    "# print(ssim(im, adjusted, channel_axis=2))\n",
    "\n",
    "# show_Image(adjusted)\n",
    "\n",
    "\n",
    "def getHistogramm(img=[]):\n",
    "    histogram=np.zeros(256)\n",
    "    if len(img.shape) == 3:\n",
    "        height, width, depth = img.shape\n",
    "    else :\n",
    "        height, width = img.shape\n",
    "    for y in range(height):\n",
    "        for x in range(width):\n",
    "            if img.ndim == 3:\n",
    "                i = 0.2125 * img[y][x][0] + 0.7154 * img[y][x][1] + 0.072 * img[y][x][2]\n",
    "            else:\n",
    "                i = img[y][x]\n",
    "\n",
    "            histogram[int(i)] += 1\n",
    "\n",
    "    return histogram\n",
    "\n",
    "def getNormHistogramm(img=[], h=[]):\n",
    "    if len(h)==0:\n",
    "        if len(img.shape) == 3:\n",
    "            height, width, depth = img.shape\n",
    "        else :\n",
    "            height, width = img.shape\n",
    "        return getHistogramm(img) / (width*height)\n",
    "    else:\n",
    "        return h/np.sum(h)\n",
    "\n",
    "def getCumulatedHistogramm(img=[], h=[]):\n",
    "    H = np.zeros(256)\n",
    "    if len(h)==0:\n",
    "        h = getNormHistogramm(img)\n",
    "    else:\n",
    "        h = getNormHistogramm(h=h)\n",
    "    for i in range(len(h)):\n",
    "        for j in range(i): \n",
    "            H[i] += h[j]\n",
    "    return H\n",
    "\n",
    "def linearContrast(img=[], t0=0, t1=255):\n",
    "    if len(img.shape) == 3:\n",
    "        height, width, depth = img.shape\n",
    "    else :\n",
    "        height, width = img.shape\n",
    "    toRet = np.zeros((height, width), dtype='uint8')\n",
    "    for y in range(height):\n",
    "        for x in range(width):\n",
    "            if img.ndim == 3:\n",
    "                a = 0.2125 * img[y][x][0] + 0.7154 * img[y][x][1] + 0.072 * img[y][x][2]\n",
    "            else:\n",
    "                a = img[y][x]\n",
    "            if a < t0:\n",
    "                toRet[y][x] = 0\n",
    "            if t0 <= a < t1:\n",
    "                toRet[y][x] = 255/(t1-t0) * (a-t0)\n",
    "            if a >= t1:\n",
    "                toRet[y][x] = 255\n",
    "    return toRet\n",
    "\n",
    "def autoContrast(img, schwellwert):\n",
    "    a1_low = getPercentage(img, schwellwert)\n",
    "    a1_high = getPercentage(img, 1-schwellwert)\n",
    "    return linearContrast(img, a1_low, a1_high)\n",
    "\n",
    "def getPercentage(img, schwellwert):\n",
    "    if schwellwert < 0:\n",
    "        schwellwert = 0\n",
    "    elif schwellwert > 1:\n",
    "        schwellwert = 1\n",
    "    H = getCumulatedHistogramm(img)\n",
    "    toRet = 255\n",
    "    for i in range(len(H)):\n",
    "        if H[i] >= schwellwert:\n",
    "            toRet = i\n",
    "            break\n",
    "    return toRet\n",
    "\n",
    "\n",
    "adjusted = autoContrast(im, 0.1)\n",
    "print(ssim(im, adjusted, channel_axis=2))\n",
    "show_Image(adjusted, 0.5)\n",
    "\n"
   ]
  },
  {
   "cell_type": "code",
   "execution_count": 17,
   "metadata": {},
   "outputs": [
    {
     "name": "stdout",
     "output_type": "stream",
     "text": [
      "6\n",
      "(1800, 4000)\n",
      "(1800, 4000)\n",
      "0.6401301404685047\n"
     ]
    }
   ],
   "source": [
    "# show_Image(adjusted, 0.5)\n",
    "gray = cv2.cvtColor(im, cv2.COLOR_BGR2GRAY)\n",
    "print(cv2.COLOR_BGR2GRAY)\n",
    "# show_Image(gray)\n",
    "print(gray.shape)\n",
    "print(adjusted.shape)\n",
    "print(ssim(gray, adjusted))"
   ]
  },
  {
   "cell_type": "markdown",
   "metadata": {},
   "source": [
    "## Bit Bilder"
   ]
  },
  {
   "cell_type": "code",
   "execution_count": 69,
   "metadata": {},
   "outputs": [],
   "source": [
    "def extract_bit(img=[], bits=2):\n",
    "    bitImages= []\n",
    "    for bit in range(bits):\n",
    "        bitMask = 1 << bit\n",
    "        bitplane = cv2.bitwise_and(img, bitMask)\n",
    "        bitImages.append(bitplane)\n",
    "        for i, bitImage in enumerate(bitImages):\n",
    "            cv2.imwrite(f'../Utils/BV2/bit_{i}.png', bitImage)\n",
    "\n",
    "# img_to_extract = cv2.imread('../Utils/BV2/versteckte_Nachricht_Dasbach.png', cv2.IMREAD_GRAYSCALE)\n",
    "# extract_bit(img_to_extract, 8)\n",
    "\n",
    "img_to_extract = cv2.imread('../Utils/BV2/versteckte_Nachricht_Dasbach.png')[:,:,0]\n",
    "extract_bit(img_to_extract, 8)\n"
   ]
  },
  {
   "cell_type": "code",
   "execution_count": 68,
   "metadata": {},
   "outputs": [
    {
     "name": "stdout",
     "output_type": "stream",
     "text": [
      "num white pixel: 830575\n",
      "mask max: 1\n",
      "bitplane max: 1\n",
      "inverse bitplane min: 254\n",
      "246\n",
      "0\n",
      "num uneven pixel 0\n",
      "246\n",
      "0\n",
      "num uneven pixel: 830575\n",
      "1\n"
     ]
    },
    {
     "data": {
      "text/plain": [
       "True"
      ]
     },
     "execution_count": 68,
     "metadata": {},
     "output_type": "execute_result"
    }
   ],
   "source": [
    "img_for_Bit = cv2.imread(\"../Utils/BV2/IMG_Landschaft.jpg\")\n",
    "b, g, r = cv2.split(img_for_Bit)\n",
    "\n",
    "mask_for_Bit = cv2.imread(\"../Utils/BV2/IMG_Landschaft_Mask.jpg\", cv2.IMREAD_GRAYSCALE)\n",
    "# cv2.imwrite(\"../Utils/BV2/IMG_Landschaft_Mask_reduziert.jpg\", mask_for_Bit)\n",
    "img_binary_for_Bit = np.array(cv2.threshold(mask_for_Bit, 128, 1, cv2.THRESH_BINARY)[1], dtype=np.uint8)\n",
    "\n",
    "\n",
    "\n",
    "bitPlane = cv2.bitwise_and(b, 1) # only lsb (00000001)\n",
    "\n",
    "bitPlane1 = cv2.bitwise_not(bitPlane) # everything espect lsb (11111110)\n",
    "\n",
    "b = cv2.bitwise_and(b, bitPlane1) # picture with lsb complete 0\n",
    "b1 = cv2.bitwise_or(b, img_binary_for_Bit)\n",
    "\n",
    "test = np.where(img_binary_for_Bit > 0)\n",
    "print('num white pixel:',len(test[0])) # no more uneven numbers ( lsb is everytime 0 )\n",
    "print('mask max:', np.max(img_binary_for_Bit)) # 1\n",
    "print('bitplane max:',np.max(bitPlane)) # 1\n",
    "print('inverse bitplane min:', np.min(bitPlane1)) # 254\n",
    "\n",
    "print(np.max(b)) # 246\n",
    "print(np.min(b)) # 0\n",
    "\n",
    "test = np.where(b % 2 != 0)\n",
    "print('num uneven pixel',len(test[0])) # no more uneven numbers ( lsb is everytime 0 )\n",
    "\n",
    "print(np.max(b1)) # 246\n",
    "print(np.min(b1)) # 0\n",
    "test = np.where(b1 % 2 != 0)\n",
    "print('num uneven pixel:', len(test[0])) # no more uneven numbers ( lsb is everytime 0 )\n",
    "\n",
    "# Es funktioniert doch\n",
    "bitPlane = cv2.bitwise_and(b1, 1)\n",
    "print(np.max(bitPlane))\n",
    "mask = np.array(np.where(bitPlane > 0, 255, 0), dtype=np.uint8)\n",
    "show_Image(mask)\n",
    "\n",
    "\n",
    "merged_img = cv2.merge((b1, g, r))\n",
    "cv2.imwrite('../Utils/BV2/versteckte_Nachricht_Dasbach.png', merged_img)"
   ]
  },
  {
   "cell_type": "code",
   "execution_count": 20,
   "metadata": {},
   "outputs": [],
   "source": [
    "# Bild laden\n",
    "im = cv2.imread('../Utils/BV2/rick_roll.jpg')\n",
    "im = cv2.cvtColor(im, cv2.COLOR_BGR2GRAY)\n",
    "# show_Image(im, 0.5)\n",
    "# Bild binarisieren\n",
    "ret, thresh = cv2.threshold(im, 121, 255, cv2.THRESH_BINARY)\n",
    "# thresh = cv2.bitwise_not(thresh)\n",
    "\n",
    "# Binarisiertes Bild speichern\n",
    "show_Image(thresh, 1)\n",
    "# cv2.imwrite('data/dst/threshold.png', thresh)\n"
   ]
  },
  {
   "cell_type": "markdown",
   "metadata": {},
   "source": [
    "## Fails"
   ]
  },
  {
   "cell_type": "code",
   "execution_count": 31,
   "metadata": {},
   "outputs": [
    {
     "ename": "error",
     "evalue": "OpenCV(4.7.0) D:\\a\\opencv-python\\opencv-python\\opencv\\modules\\core\\src\\arithm.cpp:214: error: (-209:Sizes of input arguments do not match) The operation is neither 'array op array' (where arrays have the same size and type), nor 'array op scalar', nor 'scalar op array' in function 'cv::binary_op'\n",
     "output_type": "error",
     "traceback": [
      "\u001b[1;31m---------------------------------------------------------------------------\u001b[0m",
      "\u001b[1;31merror\u001b[0m                                     Traceback (most recent call last)",
      "\u001b[1;32md:\\Stuff\\Github\\Bildverarbeitung_THKoeln\\Johan\\BV2.ipynb Cell 13\u001b[0m line \u001b[0;36m1\n\u001b[0;32m      <a href='vscode-notebook-cell:/d%3A/Stuff/Github/Bildverarbeitung_THKoeln/Johan/BV2.ipynb#X15sZmlsZQ%3D%3D?line=8'>9</a>\u001b[0m b, g, r \u001b[39m=\u001b[39m cv2\u001b[39m.\u001b[39msplit(img)\n\u001b[0;32m     <a href='vscode-notebook-cell:/d%3A/Stuff/Github/Bildverarbeitung_THKoeln/Johan/BV2.ipynb#X15sZmlsZQ%3D%3D?line=10'>11</a>\u001b[0m \u001b[39m# Ersetzen Sie den letzten Bit des Blaukanals durch das Binärbild\u001b[39;00m\n\u001b[1;32m---> <a href='vscode-notebook-cell:/d%3A/Stuff/Github/Bildverarbeitung_THKoeln/Johan/BV2.ipynb#X15sZmlsZQ%3D%3D?line=11'>12</a>\u001b[0m b \u001b[39m=\u001b[39m cv2\u001b[39m.\u001b[39;49mbitwise_or(img, binary_img) \n\u001b[0;32m     <a href='vscode-notebook-cell:/d%3A/Stuff/Github/Bildverarbeitung_THKoeln/Johan/BV2.ipynb#X15sZmlsZQ%3D%3D?line=12'>13</a>\u001b[0m \u001b[39m# Kombinieren Sie die Kanäle wieder\u001b[39;00m\n\u001b[0;32m     <a href='vscode-notebook-cell:/d%3A/Stuff/Github/Bildverarbeitung_THKoeln/Johan/BV2.ipynb#X15sZmlsZQ%3D%3D?line=13'>14</a>\u001b[0m img \u001b[39m=\u001b[39m cv2\u001b[39m.\u001b[39mmerge((b, g, r))\n",
      "\u001b[1;31merror\u001b[0m: OpenCV(4.7.0) D:\\a\\opencv-python\\opencv-python\\opencv\\modules\\core\\src\\arithm.cpp:214: error: (-209:Sizes of input arguments do not match) The operation is neither 'array op array' (where arrays have the same size and type), nor 'array op scalar', nor 'scalar op array' in function 'cv::binary_op'\n"
     ]
    }
   ],
   "source": [
    "\n",
    "# Laden Sie das Bild\n",
    "img = cv2.imread(\"../Utils/BV2/IMG_Landschaft.jpg\")\n",
    "\n",
    "# Laden Sie das Binärbild\n",
    "binary_img = cv2.imread(\"../Utils/BV2/IMG_Landschaft_Mask.jpg\", cv2.IMREAD_GRAYSCALE)\n",
    "\n",
    "# Zerlegen Sie das Bild in Kanäle\n",
    "b, g, r = cv2.split(img)\n",
    "\n",
    "# Ersetzen Sie den letzten Bit des Blaukanals durch das Binärbild\n",
    "b = cv2.bitwise_or(img, binary_img) \n",
    "# Kombinieren Sie die Kanäle wieder\n",
    "img = cv2.merge((b, g, r))\n",
    "# Speichern Sie das Bild\n",
    "# cv2.imwrite('../Utils/BV2/versteckte_Nachricht_Dasbach.jpg', img)\n"
   ]
  },
  {
   "cell_type": "code",
   "execution_count": 35,
   "metadata": {},
   "outputs": [
    {
     "name": "stdout",
     "output_type": "stream",
     "text": [
      "(1800, 4000, 3)\n",
      "(1800, 4000)\n"
     ]
    },
    {
     "data": {
      "text/plain": [
       "True"
      ]
     },
     "execution_count": 35,
     "metadata": {},
     "output_type": "execute_result"
    }
   ],
   "source": [
    "original_image = cv2.imread('../Utils/BV2/IMG_Landschaft.jpg')\n",
    "binary_image = cv2.imread('../Utils/BV2/IMG_Landschaft_Mask.jpg', cv2.IMREAD_GRAYSCALE)\n",
    "\n",
    "# Konvertiere das Binärbild in ein Binärbild mit Werten 0 und 1\n",
    "binary_image = np.where(binary_image > 0, 1, 0)\n",
    "\n",
    "# Setze das LSB des blauen Kanals auf das entsprechende Bit des Binärbildes\n",
    "original_image[:, :, 0] = (original_image[:, :, 0] & 0xFE) | binary_image\n",
    "\n",
    "# Speichere das resultierende Bild\n",
    "cv2.imwrite('result.jpg', original_image)\n",
    "\n"
   ]
  },
  {
   "cell_type": "code",
   "execution_count": 55,
   "metadata": {},
   "outputs": [
    {
     "name": "stdout",
     "output_type": "stream",
     "text": [
      "(1800, 4000, 3)\n",
      "(1800, 4000)\n"
     ]
    },
    {
     "data": {
      "text/plain": [
       "True"
      ]
     },
     "execution_count": 55,
     "metadata": {},
     "output_type": "execute_result"
    }
   ],
   "source": [
    "def changeLSB(msg_value, carrier_value):\n",
    "    if msg_value == 1:\n",
    "        new_value = int(carrier_value) | 1\n",
    "    else:\n",
    "        new_value = int(carrier_value) & 254\n",
    "    return new_value\n",
    "\n",
    "img_for_Bit = cv2.imread(\"../Utils/BV2/IMG_Landschaft.jpg\")\n",
    "b, g, r = cv2.split(img_for_Bit)\n",
    "mask_for_Bit = cv2.imread(\"../Utils/BV2/IMG_Landschaft_Mask.jpg\", cv2.IMREAD_GRAYSCALE)\n",
    "# img_binary_for_Bit = cv2.threshold(mask_for_Bit, 128, 1, cv2.THRESH_BINARY)[1]\n",
    "img_binary_for_Bit = np.array(np.where(mask_for_Bit > 0, 1, 0), dtype= np.uint8)\n",
    "\n",
    "cv2.imwrite(\"../Utils/BV2/IMG_Landschaft_Mask_binary.jpg\", img_binary_for_Bit)\n",
    "\n",
    "if len(img_for_Bit.shape) == 3:\n",
    "    height, width, depth = img_for_Bit.shape\n",
    "else :\n",
    "    height, width = img_for_Bit.shape\n",
    "for y in range(height):\n",
    "    for x in range(width):\n",
    "        b[y,x] = changeLSB(img_binary_for_Bit[y,x], b[y,x])\n",
    "\n",
    "img = cv2.merge((b, g, r))\n",
    "\n",
    "# Speichern Sie das Bild\n",
    "cv2.imwrite('../Utils/BV2/versteckte_Nachricht_Dasbach.jpg', img)"
   ]
  },
  {
   "cell_type": "code",
   "execution_count": 75,
   "metadata": {},
   "outputs": [
    {
     "data": {
      "text/plain": [
       "True"
      ]
     },
     "execution_count": 75,
     "metadata": {},
     "output_type": "execute_result"
    }
   ],
   "source": [
    "bit_0 = cv2.imread('../Utils/BV2/bit_0.jpg')\n",
    "mask = np.array(np.where(bit_0 > 0, 255, 0), dtype=np.uint8)\n",
    "cv2.imwrite(\"../Utils/BV2/bit_0_false.png\", mask)\n"
   ]
  }
 ],
 "metadata": {
  "kernelspec": {
   "display_name": "env",
   "language": "python",
   "name": "python3"
  },
  "language_info": {
   "codemirror_mode": {
    "name": "ipython",
    "version": 3
   },
   "file_extension": ".py",
   "mimetype": "text/x-python",
   "name": "python",
   "nbconvert_exporter": "python",
   "pygments_lexer": "ipython3",
   "version": "3.11.3"
  }
 },
 "nbformat": 4,
 "nbformat_minor": 2
}
