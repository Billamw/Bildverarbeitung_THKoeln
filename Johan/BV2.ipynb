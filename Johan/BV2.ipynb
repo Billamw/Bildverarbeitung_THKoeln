{
 "cells": [
  {
   "cell_type": "markdown",
   "metadata": {},
   "source": [
    "# Utils"
   ]
  },
  {
   "cell_type": "code",
   "execution_count": 86,
   "metadata": {},
   "outputs": [],
   "source": [
    "import cv2 as cv2\n",
    "import numpy as np\n",
    "import matplotlib.pyplot as plt\n",
    "\n",
    "\n",
    "imgCol = cv2.imread('../Utils/LenaJPEG.jpg')\n",
    "\n",
    "def plotSignal(signal=[], title='', xmin = 0, xmax = 0):\n",
    "  if(xmax == 0):\n",
    "    xmax = signal.size\n",
    "\n",
    "  plt.title(title)\n",
    "  plt.plot(signal)\n",
    "  plt.xlim(xmin, xmax)\n",
    "  plt.show() \n",
    "\n",
    "def show_Image(img=[], resize=-1, title='img'):\n",
    "    if len(img.shape) == 3:\n",
    "        height, width, depth = img.shape\n",
    "    else :\n",
    "        height, width = img.shape\n",
    "    if 0 < resize < 2:\n",
    "      img = cv2.resize(img, [int(width*resize), int(height*resize)])\n",
    "    cv2.imshow(title, img)\n",
    "    cv2.waitKey(0)\n",
    "    cv2.destroyAllWindows()\n",
    "\n",
    "def get_Image(path='../Utils/LenaJPEG.jpg', resize=-1, color = 0):\n",
    "    toRet = cv2.imread(path, color)\n",
    "    if 0 < resize < 2:\n",
    "      if len(toRet.shape) == 3:\n",
    "          height, width, depth = toRet.shape\n",
    "      else :\n",
    "          height, width = toRet.shape\n",
    "      toRet = cv2.resize(toRet, [int(width*resize), int(height*resize)])\n",
    "    return toRet\n",
    "\n",
    "colors = [\n",
    "  [255, 0, 0],   # Rot\n",
    "  [0, 255, 0],   # Grün\n",
    "  [0, 0, 255],   # Blau\n",
    "  [255, 255, 0], # Gelb\n",
    "  [255, 0, 255], # Magenta\n",
    "  [0, 255, 255], # Cyan\n",
    "  [128, 0, 0],   # Dunkelrot\n",
    "  [0, 128, 0],   # Dunkelgrün\n",
    "  [0, 0, 128],   # Dunkelblau\n",
    "  [128, 128, 0], # Dunkelgelb\n",
    "  [128, 0, 128], # Dunkelmagenta\n",
    "  [0, 128, 128], # Dunkelcyan\n",
    "  [192, 192, 192], # Hellgrau\n",
    "  #[128, 128, 128], # Grau\n",
    "  #[255, 255, 255], # Weiß\n",
    "  #[0, 0, 0],     # Schwarz\n",
    "  [255, 128, 128], # Hellrot\n",
    "  [128, 255, 128], # Hellgrün\n",
    "  [128, 128, 255], # Hellblau\n",
    "  [255, 255, 128], # Hellgelb\n",
    "  [255, 128, 255], # Hellmagenta\n",
    "  [128, 255, 255], # Hellcyan\n",
    "  [255, 0, 128],   # Pink\n",
    "  [128, 255, 0],   # Limette\n",
    "  [0, 128, 255],   # Himmelblau\n",
    "  [255, 128, 0],   # Orange\n",
    "  [128, 0, 255],   # Lila\n",
    "  [0, 255, 128],   # Türkis\n",
    "  [255, 128, 64],  # Pfirsich\n",
    "  [64, 255, 128],  # Limonengrün\n",
    "  [128, 64, 255],  # Violett\n",
    "]"
   ]
  },
  {
   "cell_type": "markdown",
   "metadata": {},
   "source": [
    "# Praktikum 1"
   ]
  },
  {
   "cell_type": "code",
   "execution_count": 82,
   "metadata": {},
   "outputs": [
    {
     "name": "stdout",
     "output_type": "stream",
     "text": [
      "[0 0]\n",
      "[6.35474887e-05 6.35474887e-05]\n",
      "14.142135623730951\n"
     ]
    }
   ],
   "source": [
    "def Gaussian(x, sigma = 50):\n",
    "    return np.exp(-x**2 / (2 * sigma**2)) / (sigma * np.sqrt(2 * np.pi))\n",
    "print(np.abs(np.array([0, 0]) - np.array([0, 0])))\n",
    "print( Gaussian(np.absolute(1 - 4)) * Gaussian( np.abs(np.array([0, 0]) - np.array([0, 0] ) ) ) )\n",
    "print(np.linalg.norm( np.array([0, 1]) - np.array([10, 11])))"
   ]
  },
  {
   "cell_type": "code",
   "execution_count": 91,
   "metadata": {},
   "outputs": [
    {
     "name": "stderr",
     "output_type": "stream",
     "text": [
      "C:\\Users\\Johan\\AppData\\Local\\Temp\\ipykernel_7872\\4275352557.py:21: RuntimeWarning: overflow encountered in scalar subtract\n",
      "  fs = Gaussian( np.abs( img[x, y] - img[x1, y1] ) )\n"
     ]
    }
   ],
   "source": [
    "def edge_preserving_Smoothing(img=[], filtersize = 5, sigma = 50):\n",
    "    toRet = np.zeros(img.shape)\n",
    "\n",
    "    if len(img.shape) == 3:\n",
    "        height, width, depth = img.shape\n",
    "    else :\n",
    "        height, width = img.shape\n",
    "\n",
    "    for y in range(int(filtersize/2),height-int(filtersize/2)):\n",
    "        for x in range(int(filtersize/2),width-int(filtersize/2)):\n",
    "            if img.ndim == 3:\n",
    "                return\n",
    "            else:\n",
    "                Wp = 0\n",
    "                for i in range(int(-filtersize/2), int(filtersize/2)):\n",
    "                    for j in range(int(-filtersize/2), int(filtersize/2)):\n",
    "                        x1 = y + j\n",
    "                        y1 = x + i\n",
    "                        fs = Gaussian( np.abs( img[y, x] - img[y1, x1] ) )\n",
    "                        xs = Gaussian( np.linalg.norm( np.array([y, x]) - np.array([y1, x1]) ) )\n",
    "                        toRet[y, x] += img[y1, x1] * fs * xs\n",
    "                        Wp += fs * xs\n",
    "                toRet[y,x] /= Wp\n",
    "    return toRet\n",
    "\n",
    "img = get_Image('../Utils/LennaCol.png', 1, 0)\n",
    "filtered = edge_preserving_Smoothing(img, 5, 50)\n",
    "show_Image(img)\n",
    "show_Image(filtered)"
   ]
  },
  {
   "cell_type": "code",
   "execution_count": 100,
   "metadata": {},
   "outputs": [],
   "source": [
    "img = get_Image('../Utils/BV2/IMG_Landschaft.jpg', 0.3, 1)\n",
    "hsv = cv2.cvtColor(img, cv2.COLOR_RGB2HSV)\n",
    "\n",
    "if len(img.shape) == 3:\n",
    "    height, width, depth = img.shape\n",
    "else :\n",
    "    height, width = img.shape\n",
    "\n",
    "for y in range(height):\n",
    "    for x in range(width):\n",
    "        if(hsv[y,x,0] > 80 and hsv[y,x,0]< 100):\n",
    "            hsv[y,x,1] *= 2\n",
    "\n",
    "hsv[:,:,1] = np.clip(hsv[:,:,1], 0, 255).astype(np.uint8)\n",
    "\n",
    "rgb = cv2.cvtColor(hsv, cv2.COLOR_HSV2BGR)\n",
    "show_Image(img)\n",
    "show_Image(rgb)\n",
    "\n",
    "from matplotlib.pyplot import imsave\n",
    "\n",
    "# Ihr Bild ist 'img' und Sie möchten es als 'output.png' speichern\n",
    "imsave('../Utils/BV2/output.jpg', rgb)"
   ]
  }
 ],
 "metadata": {
  "kernelspec": {
   "display_name": "env",
   "language": "python",
   "name": "python3"
  },
  "language_info": {
   "codemirror_mode": {
    "name": "ipython",
    "version": 3
   },
   "file_extension": ".py",
   "mimetype": "text/x-python",
   "name": "python",
   "nbconvert_exporter": "python",
   "pygments_lexer": "ipython3",
   "version": "3.11.3"
  }
 },
 "nbformat": 4,
 "nbformat_minor": 2
}
