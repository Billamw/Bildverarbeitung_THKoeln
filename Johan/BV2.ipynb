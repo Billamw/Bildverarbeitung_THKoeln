{
 "cells": [
  {
   "cell_type": "markdown",
   "metadata": {},
   "source": [
    "# Utils"
   ]
  },
  {
   "cell_type": "code",
   "execution_count": 2,
   "metadata": {},
   "outputs": [],
   "source": [
    "import cv2 as cv2\n",
    "import numpy as np\n",
    "import matplotlib.pyplot as plt\n",
    "\n",
    "\n",
    "imgCol = cv2.imread('../Utils/LenaJPEG.jpg')\n",
    "\n",
    "def plotSignal(signal=[], title='', xmin = 0, xmax = 0):\n",
    "  if(xmax == 0):\n",
    "    xmax = signal.size\n",
    "\n",
    "  plt.title(title)\n",
    "  plt.plot(signal)\n",
    "  plt.xlim(xmin, xmax)\n",
    "  plt.show() \n",
    "\n",
    "def show_Image(img=[], resize=-1, title='img'):\n",
    "    if len(img.shape) == 3:\n",
    "        height, width, depth = img.shape\n",
    "    else :\n",
    "        height, width = img.shape\n",
    "    if 0 < resize < 2:\n",
    "      img = cv2.resize(img, [int(width*resize), int(height*resize)])\n",
    "    cv2.imshow(title, img)\n",
    "    cv2.waitKey(0)\n",
    "    cv2.destroyAllWindows()\n",
    "\n",
    "def get_Image(path='../Utils/LenaJPEG.jpg', resize=-1, color = 0):\n",
    "    toRet = cv2.imread(path, color)\n",
    "    if 0 < resize < 2:\n",
    "      if len(toRet.shape) == 3:\n",
    "          height, width, depth = toRet.shape\n",
    "      else :\n",
    "          height, width = toRet.shape\n",
    "      toRet = cv2.resize(toRet, [int(width*resize), int(height*resize)])\n",
    "    return toRet\n",
    "\n",
    "colors = [\n",
    "  [255, 0, 0],   # Rot\n",
    "  [0, 255, 0],   # Grün\n",
    "  [0, 0, 255],   # Blau\n",
    "  [255, 255, 0], # Gelb\n",
    "  [255, 0, 255], # Magenta\n",
    "  [0, 255, 255], # Cyan\n",
    "  [128, 0, 0],   # Dunkelrot\n",
    "  [0, 128, 0],   # Dunkelgrün\n",
    "  [0, 0, 128],   # Dunkelblau\n",
    "  [128, 128, 0], # Dunkelgelb\n",
    "  [128, 0, 128], # Dunkelmagenta\n",
    "  [0, 128, 128], # Dunkelcyan\n",
    "  [192, 192, 192], # Hellgrau\n",
    "  #[128, 128, 128], # Grau\n",
    "  #[255, 255, 255], # Weiß\n",
    "  #[0, 0, 0],     # Schwarz\n",
    "  [255, 128, 128], # Hellrot\n",
    "  [128, 255, 128], # Hellgrün\n",
    "  [128, 128, 255], # Hellblau\n",
    "  [255, 255, 128], # Hellgelb\n",
    "  [255, 128, 255], # Hellmagenta\n",
    "  [128, 255, 255], # Hellcyan\n",
    "  [255, 0, 128],   # Pink\n",
    "  [128, 255, 0],   # Limette\n",
    "  [0, 128, 255],   # Himmelblau\n",
    "  [255, 128, 0],   # Orange\n",
    "  [128, 0, 255],   # Lila\n",
    "  [0, 255, 128],   # Türkis\n",
    "  [255, 128, 64],  # Pfirsich\n",
    "  [64, 255, 128],  # Limonengrün\n",
    "  [128, 64, 255],  # Violett\n",
    "]"
   ]
  },
  {
   "cell_type": "markdown",
   "metadata": {},
   "source": [
    "# Praktikum 1"
   ]
  },
  {
   "cell_type": "code",
   "execution_count": 3,
   "metadata": {},
   "outputs": [
    {
     "name": "stdout",
     "output_type": "stream",
     "text": [
      "[0 0]\n",
      "[6.35474887e-05 6.35474887e-05]\n",
      "14.142135623730951\n"
     ]
    }
   ],
   "source": [
    "def Gaussian(x, sigma = 50):\n",
    "    return np.exp(-x**2 / (2 * sigma**2)) / (sigma * np.sqrt(2 * np.pi))\n",
    "print(np.abs(np.array([0, 0]) - np.array([0, 0])))\n",
    "print( Gaussian(np.absolute(1 - 4)) * Gaussian( np.abs(np.array([0, 0]) - np.array([0, 0] ) ) ) )\n",
    "print(np.linalg.norm( np.array([0, 1]) - np.array([10, 11])))"
   ]
  },
  {
   "cell_type": "code",
   "execution_count": 26,
   "metadata": {},
   "outputs": [
    {
     "name": "stderr",
     "output_type": "stream",
     "text": [
      "C:\\Users\\Johan\\AppData\\Local\\Temp\\ipykernel_2104\\3967145915.py:20: RuntimeWarning: overflow encountered in scalar subtract\n",
      "  fs = Gaussian( np.abs( img[x, y] - img[x1, y1] ) )\n"
     ]
    }
   ],
   "source": [
    "def edge_preserving_Smoothing(img=[], filtersize = 5, sigma = 50):\n",
    "    toRet = np.zeros(img.shape)\n",
    "    size = int(filtersize/2)\n",
    "    if len(img.shape) == 3:\n",
    "        height, width, depth = img.shape\n",
    "    else :\n",
    "        height, width = img.shape\n",
    "\n",
    "    for y in range(size, height - size):\n",
    "        for x in range(size ,width - size):\n",
    "            \n",
    "            if img.ndim == 3:\n",
    "                return\n",
    "            else:\n",
    "                Wp = 0\n",
    "                for i in range(-size, size):\n",
    "                    for j in range(-size, size):\n",
    "                        x1 = x + j\n",
    "                        y1 = y + i\n",
    "                        fs = Gaussian( np.abs( img[x, y] - img[x1, y1] ) )\n",
    "                        xs = Gaussian( np.linalg.norm( np.array([x, y]) - np.array([x1, y1]) ) )\n",
    "                        toRet[x, y] += img[x1, y1] * fs * xs\n",
    "                        Wp += fs * xs\n",
    "                toRet[x, y] /= Wp\n",
    "    \n",
    "    return toRet.astype(np.uint8)\n",
    "\n",
    "img = get_Image('../Utils/LennaCol.png', 1, 0)\n",
    "filtered = edge_preserving_Smoothing(img, 3, 50)\n",
    "filtered2 = edge_preserving_Smoothing(filtered, 3)\n",
    "show_Image(img)\n",
    "show_Image(filtered2)\n",
    "filtered2 = cv2.cvtColor(filtered2, cv2.COLOR_RGB2BGR)\n",
    "from matplotlib.pyplot import imsave\n",
    "\n",
    "# Ihr Bild ist 'img' und Sie möchten es als 'output.png' speichern\n",
    "imsave('../Utils/BV2/output_edge.jpg', filtered2)"
   ]
  },
  {
   "cell_type": "code",
   "execution_count": 9,
   "metadata": {},
   "outputs": [
    {
     "name": "stdout",
     "output_type": "stream",
     "text": [
      "Unexpected exception formatting exception. Falling back to standard exception\n"
     ]
    },
    {
     "name": "stderr",
     "output_type": "stream",
     "text": [
      "Traceback (most recent call last):\n",
      "  File \"d:\\Stuff\\Github\\Bildverarbeitung_THKoeln\\env\\Lib\\site-packages\\IPython\\core\\interactiveshell.py\", line 3505, in run_code\n",
      "    exec(code_obj, self.user_global_ns, self.user_ns)\n",
      "  File \"C:\\Users\\Johan\\AppData\\Local\\Temp\\ipykernel_2104\\3287183149.py\", line -1, in <module>\n",
      "KeyboardInterrupt\n",
      "\n",
      "During handling of the above exception, another exception occurred:\n",
      "\n",
      "Traceback (most recent call last):\n",
      "  File \"d:\\Stuff\\Github\\Bildverarbeitung_THKoeln\\env\\Lib\\site-packages\\IPython\\core\\interactiveshell.py\", line 2102, in showtraceback\n",
      "    stb = self.InteractiveTB.structured_traceback(\n",
      "          ^^^^^^^^^^^^^^^^^^^^^^^^^^^^^^^^^^^^^^^^\n",
      "  File \"d:\\Stuff\\Github\\Bildverarbeitung_THKoeln\\env\\Lib\\site-packages\\IPython\\core\\ultratb.py\", line 1310, in structured_traceback\n",
      "    return FormattedTB.structured_traceback(\n",
      "           ^^^^^^^^^^^^^^^^^^^^^^^^^^^^^^^^^\n",
      "  File \"d:\\Stuff\\Github\\Bildverarbeitung_THKoeln\\env\\Lib\\site-packages\\IPython\\core\\ultratb.py\", line 1199, in structured_traceback\n",
      "    return VerboseTB.structured_traceback(\n",
      "           ^^^^^^^^^^^^^^^^^^^^^^^^^^^^^^^\n",
      "  File \"d:\\Stuff\\Github\\Bildverarbeitung_THKoeln\\env\\Lib\\site-packages\\IPython\\core\\ultratb.py\", line 1052, in structured_traceback\n",
      "    formatted_exception = self.format_exception_as_a_whole(etype, evalue, etb, number_of_lines_of_context,\n",
      "                          ^^^^^^^^^^^^^^^^^^^^^^^^^^^^^^^^^^^^^^^^^^^^^^^^^^^^^^^^^^^^^^^^^^^^^^^^^^^^^^^^\n",
      "  File \"d:\\Stuff\\Github\\Bildverarbeitung_THKoeln\\env\\Lib\\site-packages\\IPython\\core\\ultratb.py\", line 978, in format_exception_as_a_whole\n",
      "    frames.append(self.format_record(record))\n",
      "                  ^^^^^^^^^^^^^^^^^^^^^^^^^^\n",
      "  File \"d:\\Stuff\\Github\\Bildverarbeitung_THKoeln\\env\\Lib\\site-packages\\IPython\\core\\ultratb.py\", line 878, in format_record\n",
      "    frame_info.lines, Colors, self.has_colors, lvals\n",
      "    ^^^^^^^^^^^^^^^^\n",
      "  File \"d:\\Stuff\\Github\\Bildverarbeitung_THKoeln\\env\\Lib\\site-packages\\IPython\\core\\ultratb.py\", line 712, in lines\n",
      "    return self._sd.lines\n",
      "           ^^^^^^^^^^^^^^\n",
      "  File \"d:\\Stuff\\Github\\Bildverarbeitung_THKoeln\\env\\Lib\\site-packages\\stack_data\\utils.py\", line 144, in cached_property_wrapper\n",
      "    value = obj.__dict__[self.func.__name__] = self.func(obj)\n",
      "                                               ^^^^^^^^^^^^^^\n",
      "  File \"d:\\Stuff\\Github\\Bildverarbeitung_THKoeln\\env\\Lib\\site-packages\\stack_data\\core.py\", line 734, in lines\n",
      "    pieces = self.included_pieces\n",
      "             ^^^^^^^^^^^^^^^^^^^^\n",
      "  File \"d:\\Stuff\\Github\\Bildverarbeitung_THKoeln\\env\\Lib\\site-packages\\stack_data\\utils.py\", line 144, in cached_property_wrapper\n",
      "    value = obj.__dict__[self.func.__name__] = self.func(obj)\n",
      "                                               ^^^^^^^^^^^^^^\n",
      "  File \"d:\\Stuff\\Github\\Bildverarbeitung_THKoeln\\env\\Lib\\site-packages\\stack_data\\core.py\", line 681, in included_pieces\n",
      "    pos = scope_pieces.index(self.executing_piece)\n",
      "                             ^^^^^^^^^^^^^^^^^^^^\n",
      "  File \"d:\\Stuff\\Github\\Bildverarbeitung_THKoeln\\env\\Lib\\site-packages\\stack_data\\utils.py\", line 144, in cached_property_wrapper\n",
      "    value = obj.__dict__[self.func.__name__] = self.func(obj)\n",
      "                                               ^^^^^^^^^^^^^^\n",
      "  File \"d:\\Stuff\\Github\\Bildverarbeitung_THKoeln\\env\\Lib\\site-packages\\stack_data\\core.py\", line 660, in executing_piece\n",
      "    return only(\n",
      "           ^^^^^\n",
      "  File \"d:\\Stuff\\Github\\Bildverarbeitung_THKoeln\\env\\Lib\\site-packages\\executing\\executing.py\", line 190, in only\n",
      "    raise NotOneValueFound('Expected one value, found 0')\n",
      "executing.executing.NotOneValueFound: Expected one value, found 0\n"
     ]
    }
   ],
   "source": [
    "img = get_Image('../Utils/BV2/IMG_Landschaft.jpg', 0.3, 1)\n",
    "hsv = cv2.cvtColor(img, cv2.COLOR_RGB2HSV)\n",
    "\n",
    "if len(img.shape) == 3:\n",
    "    height, width, depth = img.shape\n",
    "else :\n",
    "    height, width = img.shape\n",
    "\n",
    "for y in range(height):\n",
    "    for x in range(width):\n",
    "        if(hsv[x,y,0] > 80 and hsv[y,x,0]< 100):\n",
    "            hsv[x,y,1] *= 2\n",
    "\n",
    "hsv[:,:,1] = np.clip(hsv[:,:,1], 0, 255).astype(np.uint8)\n",
    "\n",
    "rgb = cv2.cvtColor(hsv, cv2.COLOR_HSV2BGR)\n",
    "show_Image(img)\n",
    "show_Image(rgb)\n",
    "\n",
    "from matplotlib.pyplot import imsave\n",
    "\n",
    "# Ihr Bild ist 'img' und Sie möchten es als 'output.png' speichern\n",
    "imsave('../Utils/BV2/output.jpg', rgb)"
   ]
  },
  {
   "cell_type": "markdown",
   "metadata": {},
   "source": [
    "# Praktikum 2"
   ]
  },
  {
   "cell_type": "markdown",
   "metadata": {},
   "source": [
    "## SSIM"
   ]
  },
  {
   "cell_type": "code",
   "execution_count": 3,
   "metadata": {},
   "outputs": [],
   "source": [
    "\n",
    "def autoContrast(img, schwellwert):\n",
    "    a1_low = getPercentage(img, schwellwert)\n",
    "    a1_high = getPercentage(img, 1-schwellwert)\n",
    "    return linearContrast(img, a1_low, a1_high)\n",
    "\n",
    "def linearContrast(img=[], t0=0, t1=255):\n",
    "    if len(img.shape) == 3:\n",
    "        height, width, depth = img.shape\n",
    "    else :\n",
    "        height, width = img.shape\n",
    "    toRet = np.zeros((height, width), dtype='uint8')\n",
    "    for y in range(height):\n",
    "        for x in range(width):\n",
    "            if img.ndim == 3:\n",
    "                a = 0.2125 * img[y][x][0] + 0.7154 * img[y][x][1] + 0.072 * img[y][x][2]\n",
    "            else:\n",
    "                a = img[y][x]\n",
    "            if a < t0:\n",
    "                toRet[y][x] = 0\n",
    "            if t0 <= a < t1:\n",
    "                toRet[y][x] = 255/(t1-t0) * (a-t0)\n",
    "            if a >= t1:\n",
    "                toRet[y][x] = 255\n",
    "    return toRet\n",
    "\n",
    "def getPercentage(img, schwellwert):\n",
    "    if schwellwert < 0:\n",
    "        schwellwert = 0\n",
    "    elif schwellwert > 1:\n",
    "        schwellwert = 1\n",
    "    H = getCumulatedHistogramm(img)\n",
    "    toRet = 255\n",
    "    for i in range(len(H)):\n",
    "        if H[i] >= schwellwert:\n",
    "            toRet = i\n",
    "            break\n",
    "    return toRet\n",
    "\n",
    "def getCumulatedHistogramm(img=[], h=[]):\n",
    "    H = np.zeros(256)\n",
    "    if len(h)==0:\n",
    "        h = getNormHistogramm(img)\n",
    "    else:\n",
    "        h = getNormHistogramm(h=h)\n",
    "    for i in range(len(h)):\n",
    "        for j in range(i): \n",
    "            H[i] += h[j]\n",
    "    return H\n",
    "\n",
    "def getNormHistogramm(img=[], h=[]):\n",
    "    if len(h)==0:\n",
    "        if len(img.shape) == 3:\n",
    "            height, width, depth = img.shape\n",
    "        else :\n",
    "            height, width = img.shape\n",
    "        return getHistogramm(img) / (width*height)\n",
    "    else:\n",
    "        return h/np.sum(h)\n",
    "\n",
    "\n",
    "def getHistogramm(img=[]):\n",
    "    histogram=np.zeros(256)\n",
    "    if len(img.shape) == 3:\n",
    "        height, width, depth = img.shape\n",
    "    else :\n",
    "        height, width = img.shape\n",
    "    for y in range(height):\n",
    "        for x in range(width):\n",
    "            if img.ndim == 3:\n",
    "                i = 0.2125 * img[y][x][0] + 0.7154 * img[y][x][1] + 0.072 * img[y][x][2]\n",
    "            else:\n",
    "                i = img[y][x]\n",
    "\n",
    "            histogram[int(i)] += 1\n",
    "\n",
    "    return histogram"
   ]
  },
  {
   "cell_type": "code",
   "execution_count": 84,
   "metadata": {},
   "outputs": [
    {
     "name": "stdout",
     "output_type": "stream",
     "text": [
      "0.620954749816019\n",
      "0.44110456797563474\n"
     ]
    }
   ],
   "source": [
    "from skimage.metrics import structural_similarity as ssim\n",
    "\n",
    "# img_Landschaft = cv2.imread(\"../Utils/BV2/IMG_Landschaft.jpg\")\n",
    "img_Landschaft = get_Image(\"../Utils/BV2/IMG_Landschaft.jpg\", 0.3, 0)\n",
    "# show_Image(img_Landschaft)\n",
    "img_Landschaft_10 = autoContrast(img_Landschaft, 0.1)\n",
    "img_Landschaft_20 = autoContrast(img_Landschaft, 0.2)\n",
    "\n",
    "\n",
    "print(ssim(img_Landschaft, img_Landschaft_10))\n",
    "print(ssim(img_Landschaft, img_Landschaft_20))\n",
    "# show_Image(img_Landschaft_10)\n"
   ]
  },
  {
   "cell_type": "markdown",
   "metadata": {},
   "source": [
    "## Bit Bilder"
   ]
  },
  {
   "cell_type": "code",
   "execution_count": 24,
   "metadata": {},
   "outputs": [
    {
     "name": "stdout",
     "output_type": "stream",
     "text": [
      "255\n"
     ]
    }
   ],
   "source": [
    "def extract_bit(img=[], bits=2):\n",
    "    bitImages= []\n",
    "    for bit in range(bits):\n",
    "        bitMask = 1 << bit\n",
    "        bitplane = cv2.bitwise_and(img, bitMask)\n",
    "        bitImages.append(bitplane)\n",
    "        for i, bitImage in enumerate(bitImages):\n",
    "            cv2.imwrite(f'../Utils/BV2/bit_{i}.jpg', bitImage)\n",
    "\n",
    "# img_to_extract = cv2.imread('../Utils/BV2/versteckte_Nachricht_Dasbach.jpg', cv2.IMREAD_GRAYSCALE)\n",
    "# extract_bit(img_to_extract, 8)\n",
    "\n",
    "img_to_extract = cv2.imread('../Utils/BV2/versteckte_Nachricht_Dasbach.jpg')[:,:,0]\n",
    "extract_bit(img_to_extract, 8)\n",
    "\n",
    "\n",
    "bit_0 = cv2.imread('../Utils/BV2/bit_0.jpg')\n",
    "mask = np.where(bit_0 > 0)\n",
    "bit_0[mask] = 255\n",
    "show_Image(bit_0)\n",
    "print(np.max(bit_0))\n"
   ]
  },
  {
   "cell_type": "code",
   "execution_count": 26,
   "metadata": {},
   "outputs": [
    {
     "name": "stdout",
     "output_type": "stream",
     "text": [
      "1\n",
      "254\n",
      "1\n"
     ]
    },
    {
     "data": {
      "text/plain": [
       "True"
      ]
     },
     "execution_count": 26,
     "metadata": {},
     "output_type": "execute_result"
    }
   ],
   "source": [
    "img_for_Bit = cv2.imread(\"../Utils/BV2/IMG_Landschaft.jpg\")\n",
    "b, g, r = cv2.split(img_for_Bit)\n",
    "\n",
    "mask_for_Bit = cv2.imread(\"../Utils/BV2/IMG_Landschaft_Mask.jpg\", cv2.IMREAD_GRAYSCALE)\n",
    "img_binary_for_Bit = np.array(cv2.threshold(mask_for_Bit, 128, 1, cv2.THRESH_BINARY)[1])\n",
    "\n",
    "# only lsb (00000001)\n",
    "bitPlane = cv2.bitwise_and(b, 1)\n",
    "print(np.max(bitPlane)) # 1\n",
    "# everything espect lsb (11111110)\n",
    "bitPlane1 = cv2.bitwise_not(bitPlane)\n",
    "print(np.min(bitPlane1)) # 254\n",
    "# picture with lsb complete 0\n",
    "b = cv2.bitwise_and(b, bitPlane)\n",
    "print(np.max(b)) # 1\n",
    "print(np.min(b)) # 1\n",
    "\n",
    "b = cv2.bitwise_or(b, img_binary_for_Bit)\n",
    "# show_Image(b)\n",
    "\n",
    "\n",
    "\n",
    "\n",
    "merged_img = cv2.merge((b, g, r))\n",
    "cv2.imwrite('../Utils/BV2/versteckte_Nachricht_Dasbach.jpg', merged_img)"
   ]
  },
  {
   "cell_type": "code",
   "execution_count": 31,
   "metadata": {},
   "outputs": [
    {
     "ename": "error",
     "evalue": "OpenCV(4.7.0) D:\\a\\opencv-python\\opencv-python\\opencv\\modules\\core\\src\\arithm.cpp:214: error: (-209:Sizes of input arguments do not match) The operation is neither 'array op array' (where arrays have the same size and type), nor 'array op scalar', nor 'scalar op array' in function 'cv::binary_op'\n",
     "output_type": "error",
     "traceback": [
      "\u001b[1;31m---------------------------------------------------------------------------\u001b[0m",
      "\u001b[1;31merror\u001b[0m                                     Traceback (most recent call last)",
      "\u001b[1;32md:\\Stuff\\Github\\Bildverarbeitung_THKoeln\\Johan\\BV2.ipynb Cell 13\u001b[0m line \u001b[0;36m1\n\u001b[0;32m      <a href='vscode-notebook-cell:/d%3A/Stuff/Github/Bildverarbeitung_THKoeln/Johan/BV2.ipynb#X15sZmlsZQ%3D%3D?line=8'>9</a>\u001b[0m b, g, r \u001b[39m=\u001b[39m cv2\u001b[39m.\u001b[39msplit(img)\n\u001b[0;32m     <a href='vscode-notebook-cell:/d%3A/Stuff/Github/Bildverarbeitung_THKoeln/Johan/BV2.ipynb#X15sZmlsZQ%3D%3D?line=10'>11</a>\u001b[0m \u001b[39m# Ersetzen Sie den letzten Bit des Blaukanals durch das Binärbild\u001b[39;00m\n\u001b[1;32m---> <a href='vscode-notebook-cell:/d%3A/Stuff/Github/Bildverarbeitung_THKoeln/Johan/BV2.ipynb#X15sZmlsZQ%3D%3D?line=11'>12</a>\u001b[0m b \u001b[39m=\u001b[39m cv2\u001b[39m.\u001b[39;49mbitwise_or(img, binary_img) \n\u001b[0;32m     <a href='vscode-notebook-cell:/d%3A/Stuff/Github/Bildverarbeitung_THKoeln/Johan/BV2.ipynb#X15sZmlsZQ%3D%3D?line=12'>13</a>\u001b[0m \u001b[39m# Kombinieren Sie die Kanäle wieder\u001b[39;00m\n\u001b[0;32m     <a href='vscode-notebook-cell:/d%3A/Stuff/Github/Bildverarbeitung_THKoeln/Johan/BV2.ipynb#X15sZmlsZQ%3D%3D?line=13'>14</a>\u001b[0m img \u001b[39m=\u001b[39m cv2\u001b[39m.\u001b[39mmerge((b, g, r))\n",
      "\u001b[1;31merror\u001b[0m: OpenCV(4.7.0) D:\\a\\opencv-python\\opencv-python\\opencv\\modules\\core\\src\\arithm.cpp:214: error: (-209:Sizes of input arguments do not match) The operation is neither 'array op array' (where arrays have the same size and type), nor 'array op scalar', nor 'scalar op array' in function 'cv::binary_op'\n"
     ]
    }
   ],
   "source": [
    "\n",
    "# Laden Sie das Bild\n",
    "img = cv2.imread(\"../Utils/BV2/IMG_Landschaft.jpg\")\n",
    "\n",
    "# Laden Sie das Binärbild\n",
    "binary_img = cv2.imread(\"../Utils/BV2/IMG_Landschaft_Mask.jpg\", cv2.IMREAD_GRAYSCALE)\n",
    "\n",
    "# Zerlegen Sie das Bild in Kanäle\n",
    "b, g, r = cv2.split(img)\n",
    "\n",
    "# Ersetzen Sie den letzten Bit des Blaukanals durch das Binärbild\n",
    "b = cv2.bitwise_or(img, binary_img) \n",
    "# Kombinieren Sie die Kanäle wieder\n",
    "img = cv2.merge((b, g, r))\n",
    "# Speichern Sie das Bild\n",
    "# cv2.imwrite('../Utils/BV2/versteckte_Nachricht_Dasbach.jpg', img)\n"
   ]
  },
  {
   "cell_type": "code",
   "execution_count": 35,
   "metadata": {},
   "outputs": [
    {
     "name": "stdout",
     "output_type": "stream",
     "text": [
      "(1800, 4000, 3)\n",
      "(1800, 4000)\n"
     ]
    },
    {
     "data": {
      "text/plain": [
       "True"
      ]
     },
     "execution_count": 35,
     "metadata": {},
     "output_type": "execute_result"
    }
   ],
   "source": [
    "original_image = cv2.imread('../Utils/BV2/IMG_Landschaft.jpg')\n",
    "binary_image = cv2.imread('../Utils/BV2/IMG_Landschaft_Mask.jpg', cv2.IMREAD_GRAYSCALE)\n",
    "\n",
    "# Konvertiere das Binärbild in ein Binärbild mit Werten 0 und 1\n",
    "binary_image = np.where(binary_image > 0, 1, 0)\n",
    "\n",
    "# Setze das LSB des blauen Kanals auf das entsprechende Bit des Binärbildes\n",
    "original_image[:, :, 0] = (original_image[:, :, 0] & 0xFE) | binary_image\n",
    "\n",
    "# Speichere das resultierende Bild\n",
    "cv2.imwrite('result.jpg', original_image)\n",
    "\n"
   ]
  },
  {
   "cell_type": "code",
   "execution_count": 55,
   "metadata": {},
   "outputs": [
    {
     "name": "stdout",
     "output_type": "stream",
     "text": [
      "(1800, 4000, 3)\n",
      "(1800, 4000)\n"
     ]
    },
    {
     "data": {
      "text/plain": [
       "True"
      ]
     },
     "execution_count": 55,
     "metadata": {},
     "output_type": "execute_result"
    }
   ],
   "source": [
    "def changeLSB(msg_value, carrier_value):\n",
    "    if msg_value == 1:\n",
    "        new_value = int(carrier_value) | 1\n",
    "    else:\n",
    "        new_value = int(carrier_value) & 254\n",
    "    return new_value\n",
    "\n",
    "img_for_Bit = cv2.imread(\"../Utils/BV2/IMG_Landschaft.jpg\")\n",
    "b, g, r = cv2.split(img_for_Bit)\n",
    "mask_for_Bit = cv2.imread(\"../Utils/BV2/IMG_Landschaft_Mask.jpg\", cv2.IMREAD_GRAYSCALE)\n",
    "# img_binary_for_Bit = cv2.threshold(mask_for_Bit, 128, 1, cv2.THRESH_BINARY)[1]\n",
    "img_binary_for_Bit = np.array(np.where(mask_for_Bit > 0, 1, 0), dtype= np.uint8)\n",
    "\n",
    "cv2.imwrite(\"../Utils/BV2/IMG_Landschaft_Mask_binary.jpg\", img_binary_for_Bit)\n",
    "\n",
    "if len(img_for_Bit.shape) == 3:\n",
    "    height, width, depth = img_for_Bit.shape\n",
    "else :\n",
    "    height, width = img_for_Bit.shape\n",
    "for y in range(height):\n",
    "    for x in range(width):\n",
    "        b[y,x] = changeLSB(img_binary_for_Bit[y,x], b[y,x])\n",
    "\n",
    "img = cv2.merge((b, g, r))\n",
    "\n",
    "# Speichern Sie das Bild\n",
    "cv2.imwrite('../Utils/BV2/versteckte_Nachricht_Dasbach.jpg', img)"
   ]
  },
  {
   "cell_type": "code",
   "execution_count": 88,
   "metadata": {},
   "outputs": [
    {
     "name": "stdout",
     "output_type": "stream",
     "text": [
      "2\n"
     ]
    }
   ],
   "source": [
    "bit_0 = cv2.imread('../Utils/BV2/bit_0.jpg')\n",
    "height, width, depth = bit_0.shape\n",
    "print(np.max(bit_0))\n",
    "# for y in range(height):\n",
    "#     for x in range(width):\n",
    "#         print(b)\n",
    "\n",
    "# def decode(carrier, channel):\n",
    "#     width, height, depth = carrier.shape\n",
    "#     msg = np.zeros((width, height))\n",
    "\n",
    "#     for y in range(height):\n",
    "#         for x in range(width):\n",
    "#             msg[x, y] = carrier[x, y, channel] & 1\n",
    "\n",
    "#     return msg\n",
    "\n",
    "# show_Image(decode(cv2.imread(\"../Utils/BV2/versteckte_Nachricht_Dasbach.jpg\"), 0))"
   ]
  }
 ],
 "metadata": {
  "kernelspec": {
   "display_name": "env",
   "language": "python",
   "name": "python3"
  },
  "language_info": {
   "codemirror_mode": {
    "name": "ipython",
    "version": 3
   },
   "file_extension": ".py",
   "mimetype": "text/x-python",
   "name": "python",
   "nbconvert_exporter": "python",
   "pygments_lexer": "ipython3",
   "version": "3.11.3"
  }
 },
 "nbformat": 4,
 "nbformat_minor": 2
}
